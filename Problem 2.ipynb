{
 "cells": [
  {
   "cell_type": "markdown",
   "metadata": {},
   "source": [
    "PROBLEM 1: PAYING THE MINIMUM  (10 points possible)\n",
    "Write a program to calculate the credit card balance after one year if a person only pays the minimum monthly payment required by the credit card company each month.\n",
    "\n",
    "The following variables contain values as described below:\n",
    "\n",
    "balance - the outstanding balance on the credit card\n",
    "\n",
    "annualInterestRate - annual interest rate as a decimal\n",
    "\n",
    "monthlyPaymentRate - minimum monthly payment rate as a decimal\n",
    "\n",
    "For each month, calculate statements on the monthly payment and remaining balance, and print to screen something of the format:\n",
    "\n",
    "Month: 1\n",
    "Minimum monthly payment: 96.0\n",
    "Remaining balance: 4784.0\n",
    "Be sure to print out no more than two decimal digits of accuracy - so print\n",
    "\n",
    "Remaining balance: 813.41\n",
    "instead of\n",
    "Remaining balance: 813.4141998135 \n",
    "\n",
    "Finally, print out the total amount paid that year and the remaining balance at the end of the year in the format:\n",
    "\n",
    "Total paid: 96.0\n",
    "Remaining balance: 4784.0\n",
    "A summary of the required math is found below:\n",
    "\n",
    "Monthly interest rate= (Annual interest rate) / 12.0\n",
    "Minimum monthly payment = (Minimum monthly payment rate) x (Previous balance)\n",
    "Monthly unpaid balance = (Previous balance) - (Minimum monthly payment)\n",
    "Updated balance each month = (Monthly unpaid balance) + (Monthly interest rate x Monthly unpaid balance)\n",
    "\n",
    "Note that the grading script looks for the order in which each value is printed out. We provide sample test cases below; we suggest you develop your code on your own machine, and make sure your code passes the sample test cases, before you paste it into the box below."
   ]
  },
  {
   "cell_type": "code",
   "execution_count": 1,
   "metadata": {
    "collapsed": false
   },
   "outputs": [],
   "source": [
    "def credit_debt(balance, annualInterestRate, monthlyPaymentRate):\n",
    "    \n",
    "    minMonthlyPayment = 0\n",
    "    totalPaid = 0\n",
    "    monthlyUnpaidBalance = 0\n",
    "    \n",
    "    for i in range(1,13):\n",
    "        monthlyInterestRate = annualInterestRate/12.0\n",
    "        minMonthlyPayment = round(monthlyPaymentRate*balance, 2)\n",
    "        monthlyUnpaidBalance = balance - minMonthlyPayment\n",
    "        balance = monthlyUnpaidBalance + round(monthlyInterestRate*monthlyUnpaidBalance,2)\n",
    "        \n",
    "        totalPaid = totalPaid + minMonthlyPayment\n",
    "        print('Month: ' + str(i) + \"\\n\" +\n",
    "             'Minimum monthly payment = ' +  str(minMonthlyPayment) + \"\\n\" +\n",
    "             'Remaining balance = ' + str(balance))\n",
    "        \n",
    "        \n",
    "    print('Total paid: ' + str(totalPaid) + '\\n' +\n",
    "          'Remaining balance: ' + str(balance))\n",
    "        "
   ]
  },
  {
   "cell_type": "code",
   "execution_count": null,
   "metadata": {
    "collapsed": true
   },
   "outputs": [],
   "source": []
  },
  {
   "cell_type": "code",
   "execution_count": 30,
   "metadata": {
    "collapsed": false
   },
   "outputs": [
    {
     "name": "stdout",
     "output_type": "stream",
     "text": [
      "Month: 1\n",
      "Minimum monthly payment = 20.0\n",
      "Remaining balance = 4800.53\n",
      "Month: 2\n",
      "Minimum monthly payment = 20.11\n",
      "Remaining balance = 4828.22\n",
      "Month: 3\n",
      "Minimum monthly payment = 20.23\n",
      "Remaining balance = 4856.07\n",
      "Month: 4\n",
      "Minimum monthly payment = 20.35\n",
      "Remaining balance = 4884.08\n",
      "Month: 5\n",
      "Minimum monthly payment = 20.46\n",
      "Remaining balance = 4912.26\n",
      "Month: 6\n",
      "Minimum monthly payment = 20.58\n",
      "Remaining balance = 4940.6\n",
      "Month: 7\n",
      "Minimum monthly payment = 20.7\n",
      "Remaining balance = 4969.1\n",
      "Month: 8\n",
      "Minimum monthly payment = 20.82\n",
      "Remaining balance = 4997.76\n",
      "Month: 9\n",
      "Minimum monthly payment = 20.94\n",
      "Remaining balance = 5026.59\n",
      "Month: 10\n",
      "Minimum monthly payment = 21.06\n",
      "Remaining balance = 5055.59\n",
      "Month: 11\n",
      "Minimum monthly payment = 21.18\n",
      "Remaining balance = 5084.75\n",
      "Month: 12\n",
      "Minimum monthly payment = 21.31\n",
      "Remaining balance = 5114.07\n",
      "Total paid: 247.74\n",
      "Remaining balance: 5114.07\n"
     ]
    }
   ],
   "source": [
    "credit_debt(4773, 0.12, 0.00419)"
   ]
  },
  {
   "cell_type": "markdown",
   "metadata": {},
   "source": [
    "PROBLEM 2: PAYING DEBT OFF IN A YEAR  (15 points possible)\n",
    "Now write a program that calculates the minimum fixed monthly payment needed in order pay off a credit card balance within 12 months. By a fixed monthly payment, we mean a single number which does not change each month, but instead is a constant amount that will be paid each month.\n",
    "\n",
    "In this problem, we will not be dealing with a minimum monthly payment rate.\n",
    "\n",
    "The following variables contain values as described below:\n",
    "\n",
    "balance - the outstanding balance on the credit card\n",
    "\n",
    "annualInterestRate - annual interest rate as a decimal\n",
    "\n",
    "The program should print out one line: the lowest monthly payment that will pay off all debt in under 1 year, for example:\n",
    "\n",
    "Lowest Payment: 180 \n",
    "Assume that the interest is compounded monthly according to the balance at the end of the month (after the payment for that month is made). The monthly payment must be a multiple of $10 and is the same for all months. Notice that it is possible for the balance to become negative using this payment scheme, which is okay. A summary of the required math is found below:\n",
    "\n",
    "Monthly interest rate = (Annual interest rate) / 12.0\n",
    "Monthly unpaid balance = (Previous balance) - (Minimum fixed monthly payment)\n",
    "Updated balance each month = (Monthly unpaid balance) + (Monthly interest rate x Monthly unpaid balance)\n",
    "\n"
   ]
  },
  {
   "cell_type": "code",
   "execution_count": 9,
   "metadata": {
    "collapsed": false
   },
   "outputs": [
    {
     "name": "stdout",
     "output_type": "stream",
     "text": [
      "Lowest payment: 440\n"
     ]
    }
   ],
   "source": [
    "def lowest_payment_2(balance, annualInterestRate):\n",
    "    \n",
    "    monthlyInterestRate = annualInterestRate/12.0\n",
    "    fixedPayment = 10\n",
    "    counter = 0\n",
    "    while True:\n",
    "        counter += 1\n",
    "        if counter == 50:\n",
    "            break\n",
    "        previousBalance = balance\n",
    "        updatedBalance = 0\n",
    "        \n",
    "        fixedPayment = fixedPayment + 10\n",
    "        \n",
    "        for i in range(1,13):\n",
    "            \n",
    "            monthlyUnpaidBalance = previousBalance - fixedPayment\n",
    "            updatedBalance = monthlyUnpaidBalance + round(monthlyInterestRate*monthlyUnpaidBalance,2)\n",
    "            previousBalance = updatedBalance\n",
    "        \n",
    "        if updatedBalance <0:\n",
    "            break\n",
    "        \n",
    "    print('Lowest payment: ' + str(fixedPayment))\n",
    "        #print updatedBalance\n",
    "    \n",
    "    \n",
    "lowest_payment_2(4773, 0.2)     "
   ]
  },
  {
   "cell_type": "code",
   "execution_count": 10,
   "metadata": {
    "collapsed": false
   },
   "outputs": [
    {
     "name": "stdout",
     "output_type": "stream",
     "text": [
      "Lowest payment: 440\n"
     ]
    }
   ],
   "source": [
    "lowest_payment_2(4773, 0.2)"
   ]
  },
  {
   "cell_type": "code",
   "execution_count": 11,
   "metadata": {
    "collapsed": false
   },
   "outputs": [
    {
     "name": "stdout",
     "output_type": "stream",
     "text": [
      "Lowest payment: 500\n"
     ]
    }
   ],
   "source": [
    "lowest_payment_2(10000, 0.2)"
   ]
  },
  {
   "cell_type": "code",
   "execution_count": null,
   "metadata": {
    "collapsed": true
   },
   "outputs": [],
   "source": []
  },
  {
   "cell_type": "markdown",
   "metadata": {},
   "source": [
    "PROBLEM 3: USING BISECTION SEARCH TO MAKE THE PROGRAM FASTER (25 points possible)\n",
    "You'll notice that in Problem 2, your monthly payment had to be a multiple of $10. Why did we make it that way? You can try running your code locally so that the payment can be any dollar and cent amount (in other words, the monthly payment is a multiple of $0.01). Does your code still work? It should, but you may notice that your code runs more slowly, especially in cases with very large balances and interest rates. (Note: when your code is running on our servers, there are limits on the amount of computing time each submission is allowed, so your observations from running this experiment on the grading system might be limited to an error message complaining about too much time taken.)\n",
    "\n",
    "Well then, how can we calculate a more accurate fixed monthly payment than we did in Problem 2 without running into the problem of slow code? We can make this program run faster using a technique introduced in lecture - bisection search!\n",
    "\n",
    "The following variables contain values as described below:\n",
    "\n",
    "balance - the outstanding balance on the credit card\n",
    "\n",
    "annualInterestRate - annual interest rate as a decimal\n",
    "\n",
    "To recap the problem: we are searching for the smallest monthly payment such that we can pay off the entire balance within a year. What is a reasonable lower bound for this payment value? $0 is the obvious anwer, but you can do better than that. If there was no interest, the debt can be paid off by monthly payments of one-twelfth of the original balance, so we must pay at least this much every month. One-twelfth of the original balance is a good lower bound.\n",
    "\n",
    "What is a good upper bound? Imagine that instead of paying monthly, we paid off the entire balance at the end of the year. What we ultimately pay must be greater than what we would've paid in monthly installments, because the interest was compounded on the balance we didn't pay off each month. So a good upper bound for the monthly payment would be one-twelfth of the balance, after having its interest compounded monthly for an entire year.\n",
    "\n",
    "In short:\n",
    "Monthly interest rate = (Annual interest rate) / 12.0\n",
    "Monthly payment lower bound = Balance / 12\n",
    "Monthly payment upper bound = (Balance x (1 + Monthly interest rate)12) / 12.0"
   ]
  },
  {
   "cell_type": "code",
   "execution_count": 229,
   "metadata": {
    "collapsed": false
   },
   "outputs": [],
   "source": [
    "def lowest_payment_2(balance, annualInterestRate):\n",
    "    \n",
    "    monthlyInterestRate = annualInterestRate/12.0\n",
    "    fixedPayment = 0   \n",
    "    for i in range(1,13):\n",
    "            \n",
    "        monthlyUnpaidBalance = balance - fixedPayment\n",
    "        updatedBalance = monthlyUnpaidBalance + round(monthlyInterestRate*monthlyUnpaidBalance,2)\n",
    "        balance = updatedBalance\n",
    "        \n",
    "    while balance>0:\n",
    "        fixedPayment = fixedPayment + 10\n",
    "        \n",
    "    else:\n",
    "        print fixedPayment\n",
    "        \n",
    "    print fixedPayment\n",
    "       "
   ]
  },
  {
   "cell_type": "code",
   "execution_count": 221,
   "metadata": {
    "collapsed": false
   },
   "outputs": [
    {
     "ename": "NameError",
     "evalue": "name 'annualInterestRate' is not defined",
     "output_type": "error",
     "traceback": [
      "\u001b[0;31m---------------------------------------------------------------------------\u001b[0m",
      "\u001b[0;31mNameError\u001b[0m                                 Traceback (most recent call last)",
      "\u001b[0;32m<ipython-input-221-05d3dfeb796b>\u001b[0m in \u001b[0;36m<module>\u001b[0;34m()\u001b[0m\n\u001b[0;32m----> 1\u001b[0;31m \u001b[0mmonthlyInterestRate\u001b[0m \u001b[0;34m=\u001b[0m \u001b[0mannualInterestRate\u001b[0m\u001b[0;34m/\u001b[0m\u001b[0;36m12.0\u001b[0m\u001b[0;34m\u001b[0m\u001b[0m\n\u001b[0m\u001b[1;32m      2\u001b[0m \u001b[0mfixedPayment\u001b[0m \u001b[0;34m=\u001b[0m \u001b[0;36m10\u001b[0m\u001b[0;34m\u001b[0m\u001b[0m\n\u001b[1;32m      3\u001b[0m \u001b[0mcounter\u001b[0m \u001b[0;34m=\u001b[0m \u001b[0;36m0\u001b[0m\u001b[0;34m\u001b[0m\u001b[0m\n\u001b[1;32m      4\u001b[0m \u001b[0mlower\u001b[0m \u001b[0;34m=\u001b[0m \u001b[0mbalance\u001b[0m\u001b[0;34m/\u001b[0m\u001b[0;36m12\u001b[0m\u001b[0;34m\u001b[0m\u001b[0m\n\u001b[1;32m      5\u001b[0m \u001b[0mupper\u001b[0m \u001b[0;34m=\u001b[0m \u001b[0mbalance\u001b[0m\u001b[0;34m*\u001b[0m\u001b[0;34m(\u001b[0m\u001b[0;34m(\u001b[0m\u001b[0;36m1\u001b[0m \u001b[0;34m+\u001b[0m \u001b[0mmonthlyInterestRate\u001b[0m\u001b[0;34m)\u001b[0m\u001b[0;34m**\u001b[0m\u001b[0;36m12\u001b[0m\u001b[0;34m)\u001b[0m\u001b[0;34m/\u001b[0m\u001b[0;36m12.0\u001b[0m\u001b[0;34m\u001b[0m\u001b[0m\n",
      "\u001b[0;31mNameError\u001b[0m: name 'annualInterestRate' is not defined"
     ]
    }
   ],
   "source": [
    "monthlyInterestRate = annualInterestRate/12.0\n",
    "fixedPayment = 10\n",
    "counter = 0\n",
    "lower = balance/12\n",
    "upper = balance*((1 + monthlyInterestRate)**12)/12.0\n",
    "epsilon = 0.01\n",
    "\n",
    "while abs(updateBalance)>0.01:\n",
    "        counter += 1\n",
    "        if counter == 50:\n",
    "            break\n",
    "        previousBalance = balance\n",
    "        updatedBalance = 0\n",
    "        lower = balance/12\n",
    "        upper = balance*((1 + monthlyInterestRate)**12)/12.0\n",
    "        \n",
    "        fixedPayment = (lower + upper)/2\n",
    "        \n",
    "        for i in range(1,13):\n",
    "            \n",
    "            monthlyUnpaidBalance = previousBalance - fixedPayment\n",
    "            updatedBalance = monthlyUnpaidBalance + round(monthlyInterestRate*monthlyUnpaidBalance,2)\n",
    "            previousBalance = updatedBalance\n",
    "        \n",
    "        if updatedBalance <0:\n",
    "            lower = (lower + upper)/2\n",
    "        \n",
    "        else:\n",
    "            upper = (lower + upper)/2\n",
    "        \n",
    "print('Lowest payment: ' + str(fixedPayment))"
   ]
  },
  {
   "cell_type": "code",
   "execution_count": 235,
   "metadata": {
    "collapsed": false
   },
   "outputs": [
    {
     "name": "stdout",
     "output_type": "stream",
     "text": [
      "Lowest payment: 29591.55\n"
     ]
    }
   ],
   "source": [
    "def bisection_search_lowest_payment(balance, annualInterestRate):\n",
    "    monthlyInterestRate = annualInterestRate/12.0\n",
    "    counter = 0\n",
    "\n",
    "\n",
    "    while True:\n",
    "        counter += 1\n",
    "        if counter == 3:\n",
    "            break \n",
    "        lower = balance/12\n",
    "        upper = balance*((1 + monthlyInterestRate)**12)/12.0\n",
    "       \n",
    "        previousBalance = balance\n",
    "        updatedBalance = 0\n",
    "        fixedPayment = round((lower + upper)/2.0,2)\n",
    "        \n",
    "        for i in range(1,13):\n",
    "            \n",
    "            monthlyUnpaidBalance = previousBalance - fixedPayment\n",
    "            updatedBalance = monthlyUnpaidBalance + round(monthlyInterestRate*monthlyUnpaidBalance,2)\n",
    "            previousBalance = updatedBalance\n",
    "       \n",
    "        \n",
    "        \n",
    "        if updatedBalance <= 0.01:\n",
    "            break\n",
    "            \n",
    "        elif updatedBalance <0:\n",
    "            lower = (lower + upper)/2.0\n",
    "        \n",
    "        else:\n",
    "            upper = (lower + upper)/2.0\n",
    "        \n",
    "        print updatedBalance\n",
    "    \n",
    "        \n",
    "    print('Lowest payment: ' + str(fixedPayment))\n",
    "\n",
    "bisection_search_lowest_payment(320000, 0.2)\n",
    "    "
   ]
  },
  {
   "cell_type": "code",
   "execution_count": 236,
   "metadata": {
    "collapsed": false
   },
   "outputs": [
    {
     "name": "stdout",
     "output_type": "stream",
     "text": [
      "Lowest payment: 441.01\n"
     ]
    }
   ],
   "source": [
    "bisection_search_lowest_payment(4773, 0.2)"
   ]
  },
  {
   "cell_type": "code",
   "execution_count": 237,
   "metadata": {
    "collapsed": false
   },
   "outputs": [
    {
     "name": "stdout",
     "output_type": "stream",
     "text": [
      "Lowest payment: 29591.55\n"
     ]
    }
   ],
   "source": [
    "bisection_search_lowest_payment(320000, 0.2)"
   ]
  },
  {
   "cell_type": "code",
   "execution_count": 238,
   "metadata": {
    "collapsed": false
   },
   "outputs": [
    {
     "name": "stdout",
     "output_type": "stream",
     "text": [
      "Lowest payment: 91483.87\n"
     ]
    }
   ],
   "source": [
    "bisection_search_lowest_payment(999999, 0.18)"
   ]
  },
  {
   "cell_type": "code",
   "execution_count": 220,
   "metadata": {
    "collapsed": true
   },
   "outputs": [],
   "source": [
    "def bisection_search_lowest_payment(balance, annualInterestRate):\n",
    "    monthlyInterestRate = annualInterestRate/12.0\n",
    "    counter = 0\n",
    "    lower = balance/12\n",
    "    upper = balance*((1 + monthlyInterestRate)**12)/12.0\n",
    "    updatedBalance = 0\n",
    "  \n",
    "   \n",
    "    while abs(updatedBalance)>0.01:\n",
    "        counter += 1\n",
    "        if counter == 100:\n",
    "            break \n",
    "       \n",
    "        previousBalance = balance\n",
    "        lower = balance/12\n",
    "        upper = balance*((1 + monthlyInterestRate)**12)/12.0\n",
    "        \n",
    "        fixedPayment = round((lower + upper)/2.0,2)\n",
    "        for i in range(1,13):\n",
    "            \n",
    "            monthlyUnpaidBalance = previousBalance - fixedPayment\n",
    "            updatedBalance = monthlyUnpaidBalance + round(monthlyInterestRate*monthlyUnpaidBalance,2)\n",
    "            previousBalance = updatedBalance\n",
    "            \n",
    "        if updatedBalance <0:\n",
    "            lower = (lower + upper)/2.0\n",
    "        \n",
    "        else:\n",
    "            upper = (lower + upper)/2.0\n",
    "    \n",
    "    print('Lowest payment: ' + str(fixedPayment))\n",
    "    \n",
    "    "
   ]
  },
  {
   "cell_type": "code",
   "execution_count": 189,
   "metadata": {
    "collapsed": false
   },
   "outputs": [
    {
     "ename": "UnboundLocalError",
     "evalue": "local variable 'fixedPayment' referenced before assignment",
     "output_type": "error",
     "traceback": [
      "\u001b[0;31m---------------------------------------------------------------------------\u001b[0m",
      "\u001b[0;31mUnboundLocalError\u001b[0m                         Traceback (most recent call last)",
      "\u001b[0;32m<ipython-input-189-2cb4c5988865>\u001b[0m in \u001b[0;36m<module>\u001b[0;34m()\u001b[0m\n\u001b[0;32m----> 1\u001b[0;31m \u001b[0mbisection_search_lowest_payment\u001b[0m\u001b[0;34m(\u001b[0m\u001b[0;36m320000\u001b[0m\u001b[0;34m,\u001b[0m \u001b[0;36m0.2\u001b[0m\u001b[0;34m)\u001b[0m\u001b[0;34m\u001b[0m\u001b[0m\n\u001b[0m",
      "\u001b[0;32m<ipython-input-188-e7af06354d89>\u001b[0m in \u001b[0;36mbisection_search_lowest_payment\u001b[0;34m(balance, annualInterestRate)\u001b[0m\n\u001b[1;32m     30\u001b[0m \u001b[0;34m\u001b[0m\u001b[0m\n\u001b[1;32m     31\u001b[0m         \u001b[0;32mprint\u001b[0m\u001b[0;34m(\u001b[0m\u001b[0;34m'Lowest payment: '\u001b[0m \u001b[0;34m+\u001b[0m \u001b[0mstr\u001b[0m\u001b[0;34m(\u001b[0m\u001b[0mfixedPayment\u001b[0m\u001b[0;34m)\u001b[0m\u001b[0;34m)\u001b[0m\u001b[0;34m\u001b[0m\u001b[0m\n\u001b[0;32m---> 32\u001b[0;31m     \u001b[0;32mreturn\u001b[0m \u001b[0mfixedPayment\u001b[0m\u001b[0;34m\u001b[0m\u001b[0m\n\u001b[0m\u001b[1;32m     33\u001b[0m \u001b[0;34m\u001b[0m\u001b[0m\n",
      "\u001b[0;31mUnboundLocalError\u001b[0m: local variable 'fixedPayment' referenced before assignment"
     ]
    }
   ],
   "source": [
    "bisection_search_lowest_payment(320000, 0.2)"
   ]
  },
  {
   "cell_type": "code",
   "execution_count": 295,
   "metadata": {
    "collapsed": true
   },
   "outputs": [],
   "source": [
    "def lowest_payment_3(balance, annualInterestRate, fixedPayment):\n",
    "    \n",
    "    monthlyInterestRate = annualInterestRate/12.0   \n",
    "    for i in range(1,13):\n",
    "            \n",
    "        monthlyUnpaidBalance = balance - fixedPayment\n",
    "        updatedBalance = monthlyUnpaidBalance + monthlyInterestRate*monthlyUnpaidBalance\n",
    "        balance = updatedBalance\n",
    "        \n",
    "    return balance\n",
    "       "
   ]
  },
  {
   "cell_type": "code",
   "execution_count": 296,
   "metadata": {
    "collapsed": false
   },
   "outputs": [
    {
     "data": {
      "text/plain": [
       "-68.3030706037647"
      ]
     },
     "execution_count": 296,
     "metadata": {},
     "output_type": "execute_result"
    }
   ],
   "source": [
    "lowest_payment_3(4773, 0.2, 440)"
   ]
  },
  {
   "cell_type": "code",
   "execution_count": 342,
   "metadata": {
    "collapsed": false
   },
   "outputs": [],
   "source": [
    "def bisection_search_lowest_payment(balance, annualInterestRate):\n",
    "    monthlyInterestRate = annualInterestRate/12.0\n",
    "    counter = 0\n",
    "    lower = balance/12\n",
    "    upper = balance*((1 + monthlyInterestRate)**12)/12.0   \n",
    "    \n",
    "\n",
    "   \n",
    "    while abs(lower-upper)>0.01:\n",
    "        #counter += 1\n",
    "        #if counter == 100:\n",
    "           # break\n",
    "        fixedPayment = (lower + upper)/2.0\n",
    "        \n",
    "        if lowest_payment_3(balance, annualInterestRate, fixedPayment) > 0:\n",
    "            lower = (lower + upper)/2.0\n",
    "        \n",
    "        else:\n",
    "            upper = (lower + upper)/2.0\n",
    "        \n",
    "       \n",
    "        \n",
    "        \n",
    "    \n",
    "    print('Lowest payment: ' + str(round(fixedPayment,2)))\n",
    "    \n",
    "    "
   ]
  },
  {
   "cell_type": "code",
   "execution_count": 343,
   "metadata": {
    "collapsed": false
   },
   "outputs": [
    {
     "name": "stdout",
     "output_type": "stream",
     "text": [
      "Lowest payment: 434.9\n"
     ]
    }
   ],
   "source": [
    "bisection_search_lowest_payment(4773, 0.2)"
   ]
  },
  {
   "cell_type": "code",
   "execution_count": 344,
   "metadata": {
    "collapsed": false
   },
   "outputs": [
    {
     "name": "stdout",
     "output_type": "stream",
     "text": [
      "Lowest payment: 90325.03\n"
     ]
    }
   ],
   "source": [
    "bisection_search_lowest_payment(999999, 0.18)"
   ]
  },
  {
   "cell_type": "code",
   "execution_count": 345,
   "metadata": {
    "collapsed": false
   },
   "outputs": [
    {
     "name": "stdout",
     "output_type": "stream",
     "text": [
      "Lowest payment: 29157.09\n"
     ]
    }
   ],
   "source": [
    "bisection_search_lowest_payment(320000, 0.2)"
   ]
  },
  {
   "cell_type": "code",
   "execution_count": null,
   "metadata": {
    "collapsed": true
   },
   "outputs": [],
   "source": [
    "    monthlyInterestRate = annualInterestRate/12.0   \n",
    "    for i in range(1,13):\n",
    "            \n",
    "        monthlyUnpaidBalance = balance - fixedPayment\n",
    "        updatedBalance = monthlyUnpaidBalance + monthlyInterestRate*monthlyUnpaidBalance\n",
    "        balance = updatedBalance\n",
    "        \n",
    "    return balance"
   ]
  }
 ],
 "metadata": {
  "kernelspec": {
   "display_name": "Python 2",
   "language": "python",
   "name": "python2"
  },
  "language_info": {
   "codemirror_mode": {
    "name": "ipython",
    "version": 2
   },
   "file_extension": ".py",
   "mimetype": "text/x-python",
   "name": "python",
   "nbconvert_exporter": "python",
   "pygments_lexer": "ipython2",
   "version": "2.7.11"
  }
 },
 "nbformat": 4,
 "nbformat_minor": 0
}
