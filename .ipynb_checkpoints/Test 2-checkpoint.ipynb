{
 "cells": [
  {
   "cell_type": "markdown",
   "metadata": {},
   "source": [
    "PROBLEM 2: PAYING DEBT OFF IN A YEAR  (15 points possible)\n",
    "Now write a program that calculates the minimum fixed monthly payment needed in order pay off a credit card balance within 12 months. By a fixed monthly payment, we mean a single number which does not change each month, but instead is a constant amount that will be paid each month.\n",
    "\n",
    "In this problem, we will not be dealing with a minimum monthly payment rate.\n",
    "\n",
    "The following variables contain values as described below:\n",
    "\n",
    "balance - the outstanding balance on the credit card\n",
    "\n",
    "annualInterestRate - annual interest rate as a decimal\n",
    "\n",
    "The program should print out one line: the lowest monthly payment that will pay off all debt in under 1 year, for example:\n",
    "\n",
    "Lowest Payment: 180 \n",
    "Assume that the interest is compounded monthly according to the balance at the end of the month (after the payment for that month is made). The monthly payment must be a multiple of $10 and is the same for all months. Notice that it is possible for the balance to become negative using this payment scheme, which is okay. A summary of the required math is found below:\n",
    "\n",
    "Monthly interest rate = (Annual interest rate) / 12.0\n",
    "Monthly unpaid balance = (Previous balance) - (Minimum fixed monthly payment)\n",
    "Updated balance each month = (Monthly unpaid balance) + (Monthly interest rate x Monthly unpaid balance)"
   ]
  },
  {
   "cell_type": "code",
   "execution_count": 3,
   "metadata": {
    "collapsed": false
   },
   "outputs": [
    {
     "name": "stdout",
     "output_type": "stream",
     "text": [
      "Month: 1\n",
      "Minimum monthly payment = 10\n",
      "Remaining balance = 3334.67\n",
      "Month: 2\n",
      "Minimum monthly payment = 10\n",
      "Remaining balance = 3380.08\n",
      "Month: 3\n",
      "Minimum monthly payment = 10\n",
      "Remaining balance = 3426.25\n",
      "Month: 4\n",
      "Minimum monthly payment = 10\n",
      "Remaining balance = 3473.19\n",
      "Month: 5\n",
      "Minimum monthly payment = 10\n",
      "Remaining balance = 3520.91\n",
      "Month: 6\n",
      "Minimum monthly payment = 10\n",
      "Remaining balance = 3569.43\n",
      "Month: 7\n",
      "Minimum monthly payment = 10\n",
      "Remaining balance = 3618.75\n",
      "Month: 8\n",
      "Minimum monthly payment = 10\n",
      "Remaining balance = 3668.9\n",
      "Month: 9\n",
      "Minimum monthly payment = 10\n",
      "Remaining balance = 3719.88\n",
      "Month: 10\n",
      "Minimum monthly payment = 10\n",
      "Remaining balance = 3771.71\n",
      "Month: 11\n",
      "Minimum monthly payment = 10\n",
      "Remaining balance = 3824.41\n",
      "Month: 12\n",
      "Minimum monthly payment = 10\n",
      "Remaining balance = 3877.98\n",
      "Total paid: 120\n",
      "Remaining balance: 3877.98\n"
     ]
    }
   ],
   "source": [
    "def fixed_payment(balance, annualInterestRate, fixedPayment):\n",
    "    # write a program that calculates the remaining balance after 12 months of fixedPayment\n",
    "    totalPaid = 0\n",
    "    monthlyUnpaidBalance = 0\n",
    "    monthlyInterestRate = annualInterestRate/12.0\n",
    "    previousBalance = balance\n",
    "        \n",
    "    \n",
    "    for i in range(1,13):\n",
    "        monthlyUnpaidBalance = previousBalance - fixedPayment\n",
    "        balance = monthlyUnpaidBalance + round(monthlyInterestRate*monthlyUnpaidBalance,2)\n",
    "        totalPaid = totalPaid + fixedPayment\n",
    "        previousBalance = balance\n",
    "        print('Month: ' + str(i) + \"\\n\" +\n",
    "              'Minimum monthly payment = ' +  str(fixedPayment) + \"\\n\" + \n",
    "              'Remaining balance = ' + str(balance))\n",
    "        \n",
    "        \n",
    "        \n",
    "    print('Total paid: ' + str(totalPaid) + '\\n' +\n",
    "      'Remaining balance: ' + str(balance))\n",
    " \n",
    "fixed_payment(3290, 0.2, 10)"
   ]
  },
  {
   "cell_type": "code",
   "execution_count": null,
   "metadata": {
    "collapsed": true
   },
   "outputs": [],
   "source": [
    "def lowest_payment(balance, annualInterestRate):\n",
    "    # calculates the minimum fixed monthly payment \n",
    "    # needed in order pay off a credit card balance within 12 months\n",
    "    monthlyUnpaidBalance = 0\n",
    "    monthlyInterestRate = annualInterestRate/12.0\n",
    "    previousBalance = balance\n",
    "    fixedPayment = 0\n",
    "    updatedBalance = 0\n",
    "    \n",
    "    while True:\n",
    "        \n",
    "        if updatedBalance <0:\n",
    "                break\n",
    "        \n",
    "        fixedPayment = fixedPayment + 10\n",
    "        for i in range(1,13):\n",
    "            \n",
    "            monthlyUnpaidBalance = previousBalance - fixedPayment\n",
    "            updatedBalance = monthlyUnpaidBalance + round(monthlyInterestRate*monthlyUnpaidBalance,2)\n",
    "        previousBalance = updatedBalance  # error around here\n",
    "        \n",
    "    print fixedPayment"
   ]
  }
 ],
 "metadata": {
  "kernelspec": {
   "display_name": "Python 2",
   "language": "python",
   "name": "python2"
  },
  "language_info": {
   "codemirror_mode": {
    "name": "ipython",
    "version": 2
   },
   "file_extension": ".py",
   "mimetype": "text/x-python",
   "name": "python",
   "nbconvert_exporter": "python",
   "pygments_lexer": "ipython2",
   "version": "2.7.11"
  }
 },
 "nbformat": 4,
 "nbformat_minor": 0
}
