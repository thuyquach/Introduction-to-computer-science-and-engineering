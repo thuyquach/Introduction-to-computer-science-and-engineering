{
 "cells": [
  {
   "cell_type": "code",
   "execution_count": 9,
   "metadata": {
    "collapsed": true
   },
   "outputs": [],
   "source": [
    "def isPal(x):\n",
    "    assert type(x) == list\n",
    "    temp = x\n",
    "    temp.reverse\n",
    "    if temp == x:\n",
    "        return True\n",
    "    else:\n",
    "        return False\n",
    "\n",
    "def silly(n):\n",
    "    for i in range(n):\n",
    "        result = []\n",
    "        elem = raw_input('Enter element: ')\n",
    "        result.append(elem)\n",
    "    if isPal(result):\n",
    "        print('Yes')\n",
    "    else:\n",
    "        print('No')"
   ]
  },
  {
   "cell_type": "code",
   "execution_count": 3,
   "metadata": {
    "collapsed": false
   },
   "outputs": [
    {
     "name": "stdout",
     "output_type": "stream",
     "text": [
      "Enter element: a\n",
      "Enter element: b\n",
      "Enter element: c\n",
      "Enter element: b\n",
      "Enter element: a\n",
      "Yes\n"
     ]
    }
   ],
   "source": [
    "silly(5)"
   ]
  },
  {
   "cell_type": "code",
   "execution_count": 40,
   "metadata": {
    "collapsed": false
   },
   "outputs": [
    {
     "name": "stdout",
     "output_type": "stream",
     "text": [
      "Enter element: a\n",
      "['a']\n",
      "Enter element: b\n",
      "['b']\n",
      "<built-in method reverse of list object at 0x1062cdd40>\n",
      "No\n"
     ]
    }
   ],
   "source": [
    "silly(2)"
   ]
  },
  {
   "cell_type": "code",
   "execution_count": 6,
   "metadata": {
    "collapsed": false
   },
   "outputs": [
    {
     "name": "stdout",
     "output_type": "stream",
     "text": [
      "Enter element: a\n",
      "Enter element: b\n",
      "['b']\n",
      "Yes\n"
     ]
    }
   ],
   "source": [
    "# bug: using binary search, put the print statment half way through the code\n",
    "silly(2)"
   ]
  },
  {
   "cell_type": "code",
   "execution_count": 7,
   "metadata": {
    "collapsed": false
   },
   "outputs": [
    {
     "name": "stdout",
     "output_type": "stream",
     "text": [
      "Enter element: a\n",
      "Enter element: b\n",
      "Enter element: c\n",
      "Enter element: a\n",
      "Enter element: b\n",
      "['b']\n",
      "Yes\n"
     ]
    }
   ],
   "source": [
    "silly(5)"
   ]
  },
  {
   "cell_type": "code",
   "execution_count": 10,
   "metadata": {
    "collapsed": false
   },
   "outputs": [
    {
     "name": "stdout",
     "output_type": "stream",
     "text": [
      "Enter element: a\n",
      "['a']\n",
      "Enter element: b\n",
      "['b']\n",
      "Enter element: c\n",
      "['c']\n",
      "Enter element: b\n",
      "['b']\n",
      "Enter element: a\n",
      "['a']\n",
      "Yes\n"
     ]
    }
   ],
   "source": [
    "# put print statement inside the loop\n",
    "silly(5)"
   ]
  },
  {
   "cell_type": "code",
   "execution_count": 38,
   "metadata": {
    "collapsed": false
   },
   "outputs": [],
   "source": [
    "# code did go through all element but we lost their values. Because we put initialize inside the loop. Let's try to put it outside\n",
    "def isPal1(x):\n",
    "    assert type(x) == list\n",
    "    temp = x[:]\n",
    "    temp.reverse()\n",
    "    print (x, temp)\n",
    "    if temp == x:\n",
    "        return True\n",
    "    else:\n",
    "        return False\n",
    "    \n",
    "\n",
    "def silly1(n):\n",
    "    result = [] # put it outside the loop\n",
    "    for i in range(n):\n",
    "        elem = raw_input('Enter element: ')\n",
    "        result.append(elem)\n",
    "        print result\n",
    "    if isPal1(result):\n",
    "        print('Yes')\n",
    "    else:\n",
    "        print('No')"
   ]
  },
  {
   "cell_type": "code",
   "execution_count": 21,
   "metadata": {
    "collapsed": false
   },
   "outputs": [
    {
     "name": "stdout",
     "output_type": "stream",
     "text": [
      "Enter element: a\n",
      "['a']\n",
      "Enter element: b\n",
      "['a', 'b']\n",
      "Yes\n"
     ]
    }
   ],
   "source": [
    "silly1(2)"
   ]
  },
  {
   "cell_type": "code",
   "execution_count": 39,
   "metadata": {
    "collapsed": false
   },
   "outputs": [
    {
     "name": "stdout",
     "output_type": "stream",
     "text": [
      "(['a', 'b'], ['b', 'a'])\n"
     ]
    },
    {
     "data": {
      "text/plain": [
       "False"
      ]
     },
     "execution_count": 39,
     "metadata": {},
     "output_type": "execute_result"
    }
   ],
   "source": [
    "isPal1(['a', 'b'])"
   ]
  },
  {
   "cell_type": "code",
   "execution_count": 27,
   "metadata": {
    "collapsed": true
   },
   "outputs": [],
   "source": [
    "# bug in isPal. Let's put a print statement. So there is no reverse. Error may be pior to the print statement. Let put print up."
   ]
  },
  {
   "cell_type": "code",
   "execution_count": null,
   "metadata": {
    "collapsed": true
   },
   "outputs": [],
   "source": [
    "# Make a copy so temp and x is not alised with each other. temp = x[:]"
   ]
  }
 ],
 "metadata": {
  "kernelspec": {
   "display_name": "Python 2",
   "language": "python",
   "name": "python2"
  },
  "language_info": {
   "codemirror_mode": {
    "name": "ipython",
    "version": 2
   },
   "file_extension": ".py",
   "mimetype": "text/x-python",
   "name": "python",
   "nbconvert_exporter": "python",
   "pygments_lexer": "ipython2",
   "version": "2.7.11"
  }
 },
 "nbformat": 4,
 "nbformat_minor": 0
}
