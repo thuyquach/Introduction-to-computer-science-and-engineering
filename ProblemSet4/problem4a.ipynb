{
 "cells": [
  {
   "cell_type": "markdown",
   "metadata": {},
   "source": [
    "INTRODUCTION - A WORD GAME\n",
    "\n",
    "In this problem set, you'll implement two versions of the 6.00 wordgame!\n",
    "\n",
    "Don't be intimidated by the length of this problem set. There is a lot of reading, but it can be done with a reasonable amount of thinking and coding. It'll be helpful if you start this problem set a few days before it is due!\n",
    "\n",
    "Let's begin by describing the 6.00 wordgame: This game is a lot like Scrabble or Words With Friends, if you've played those. Letters are dealt to players, who then construct one or more words out of their letters. Each valid word receives a score, based on the length of the word and the letters in that word.\n",
    "\n",
    "The rules of the game are as follows:\n",
    "\n",
    "Dealing\n",
    "A player is dealt a hand of n letters chosen at random (assume n=7 for now).\n",
    "\n",
    "The player arranges the hand into as many words as they want out of the letters, using each letter at most once.\n",
    "\n",
    "Some letters may remain unused (these won't be scored).\n",
    "\n",
    "Scoring\n",
    "The score for the hand is the sum of the scores for each word formed.\n",
    "\n",
    "The score for a word is the sum of the points for letters in the word, multiplied by the length of the word, plus 50 points if all n letters are used on the first word created.\n",
    "\n",
    "Letters are scored as in Scrabble; A is worth 1, B is worth 3, C is worth 3, D is worth 2, E is worth 1, and so on. We have defined the dictionary SCRABBLE_LETTER_VALUES that maps each lowercase letter to its Scrabble letter value.\n",
    "\n",
    "For example, 'weed' would be worth 32 points ((4+1+1+2) for the four letters, then multiply by len('weed') to get (4+1+1+2)*4 = 32). Be sure to check that the hand actually has 1 'w', 2 'e's, and 1 'd' before scoring the word!\n",
    "\n",
    "As another example, if n=7 and you make the word 'waybill' on the first try, it would be worth 155 points (the base score for 'waybill' is (4+1+4+3+1+1+1)*7=105, plus an additional 50 point bonus for using all n letters)."
   ]
  },
  {
   "cell_type": "markdown",
   "metadata": {},
   "source": [
    "GETTING STARTED\n",
    "\n",
    "Download and save Problem Set 4, a zip file of all the skeleton code you'll be filling in. Extract the files from the zip folder and make sure to save all the files  - ps4a.py, ps4b.py, test_ps4a.py and words.txt - in the same folder. We recommend creating a folder in your Documents folder called 6001x, and inside the 6001x folder, creating a separate folder for each problem set. If you don't follow this instruction, you may end up with issues because the files for this problem set depend on one another.\n",
    "\n",
    "Run the file ps4a.py, without making any modifications to it, in order to ensure that everything is set up correctly (this means, open the file in IDLE, and use the Run command to load the file into the interpreter). The code we have given you loads a list of valid words from a file and then calls the playGame function. You will implement the functions it needs in order to work. If everything is okay, after a small delay, you should see the following printed out:\n",
    "\n",
    "\n",
    "Loading word list from file...\n",
    "      83667 words loaded.\n",
    "playGame not yet implemented.\n",
    "\n",
    "If you see an IOError instead (e.g., \"No such file or directory\"), you should change the value of the WORDLIST_FILENAME constant (defined near the top of the file) to the complete pathname for the file words.txt (This will vary based on where you saved the files).\n",
    "\n",
    "For example, if you saved all the files including this words.txt in the directory \"C:/Users/Ana/6001x/PS4\" change the line: \n",
    "\n",
    "WORDLIST_FILENAME = \"words.txt\"  to something like\n",
    "\n",
    "WORDLIST_FILENAME = \"C:/Users/Ana/6001x/PS4/words.txt\"\n",
    "\n",
    "Windows users, if you are copying the file path from Windows Explorer, you will have to change the backslashes to forward slashes.\n",
    "\n",
    "The file ps4a.py has a number of already implemented functions you can use while writing up your solution. You can ignore the code between the following comments, though you should read and understand how to use each helper function by reading the docstrings:\n",
    "\n",
    " \n",
    " -----------------------------------\n",
    "\n",
    "\n",
    "\n",
    "Canopy specific instructions: Every time you modify code in ps4a.py go to\n",
    "\n",
    "Run -> Restart Kernel (or hit the CTRL with the dot on your keyboard)\n",
    "\n",
    "before running test_ps4a.py. You have to do this every time you modify the file ps4a.py and want to run the file test_ps4a.py, otherwise changes to the former will not be incorporated in the latter.\n",
    "\n",
    "This problem set is structured so that you will write a number of modular functions and then glue them together to form the complete word playing game. Instead of waiting until the entire game is ready, you should test each function you write, individually, before moving on. This approach is known as unit testing, and it will help you debug your code.\n",
    "\n",
    "We have provided several test functions to get you started. After you've written each new function, unit test by running the file test_ps4a.py to check your work.\n",
    "\n",
    "If your code passes the unit tests you will see a SUCCESS message; otherwise you will see a FAILURE message. These tests aren't exhaustive. You will want to test your code in other ways too.\n",
    "\n",
    "Try running test_ps4a.py now (before you modify the ps4a.py skeleton). You should see that all the tests fail, because nothing has been implemented yet.\n",
    "\n",
    " \n",
    "\n",
    "These are the provided test functions:\n",
    "\n",
    "test_getWordScore()\n",
    "Test the getWordScore() implementation.\n",
    "\n",
    "test_updateHand()\n",
    "Test the updateHand() implementation.\n",
    "\n",
    "test_isValidWord()\n",
    "Test the isValidWord() implementation."
   ]
  },
  {
   "cell_type": "code",
   "execution_count": 2,
   "metadata": {
    "collapsed": false
   },
   "outputs": [
    {
     "name": "stdout",
     "output_type": "stream",
     "text": [
      "Loading word list from file...\n",
      "   83667 words loaded.\n",
      "playGame not yet implemented.\n"
     ]
    }
   ],
   "source": [
    "\n",
    "import random\n",
    "import string\n",
    "\n",
    "VOWELS = 'aeiou'\n",
    "CONSONANTS = 'bcdfghjklmnpqrstvwxyz'\n",
    "HAND_SIZE = 7\n",
    "\n",
    "SCRABBLE_LETTER_VALUES = {\n",
    "    'a': 1, 'b': 3, 'c': 3, 'd': 2, 'e': 1, 'f': 4, 'g': 2, 'h': 4, 'i': 1, 'j': 8, 'k': 5, 'l': 1, 'm': 3, 'n': 1, 'o': 1, 'p': 3, 'q': 10, 'r': 1, 's': 1, 't': 1, 'u': 1, 'v': 4, 'w': 4, 'x': 8, 'y': 4, 'z': 10\n",
    "}\n",
    "\n",
    "# -----------------------------------\n",
    "# Helper code\n",
    "# (you don't need to understand this helper code)\n",
    "\n",
    "WORDLIST_FILENAME = \"words.txt\"\n",
    "\n",
    "def loadWords():\n",
    "    \"\"\"\n",
    "    Returns a list of valid words. Words are strings of lowercase letters.\n",
    "    \n",
    "    Depending on the size of the word list, this function may\n",
    "    take a while to finish.\n",
    "    \"\"\"\n",
    "    print \"Loading word list from file...\"\n",
    "    # inFile: file\n",
    "    inFile = open(WORDLIST_FILENAME, 'r', 0)\n",
    "    # wordList: list of strings\n",
    "    wordList = []\n",
    "    for line in inFile:\n",
    "        wordList.append(line.strip().lower())\n",
    "    print \"  \", len(wordList), \"words loaded.\"\n",
    "    return wordList\n",
    "\n",
    "def getFrequencyDict(sequence):\n",
    "    \"\"\"\n",
    "    Returns a dictionary where the keys are elements of the sequence\n",
    "    and the values are integer counts, for the number of times that\n",
    "    an element is repeated in the sequence.\n",
    "\n",
    "    sequence: string or list\n",
    "    return: dictionary\n",
    "    \"\"\"\n",
    "    # freqs: dictionary (element_type -> int)\n",
    "    freq = {}\n",
    "    for x in sequence:\n",
    "        freq[x] = freq.get(x,0) + 1\n",
    "    return freq\n",
    "\t\n",
    "\n",
    "# (end of helper code)\n",
    "# -----------------------------------\n",
    "\n",
    "#\n",
    "# Problem #1: Scoring a word\n",
    "#\n",
    "def getWordScore(word, n):\n",
    "    \"\"\"\n",
    "    Returns the score for a word. Assumes the word is a valid word.\n",
    "\n",
    "    The score for a word is the sum of the points for letters in the\n",
    "    word, multiplied by the length of the word, PLUS 50 points if all n\n",
    "    letters are used on the first turn.\n",
    "\n",
    "    Letters are scored as in Scrabble; A is worth 1, B is worth 3, C is\n",
    "    worth 3, D is worth 2, E is worth 1, and so on (see SCRABBLE_LETTER_VALUES)\n",
    "\n",
    "    word: string (lowercase letters)\n",
    "    n: integer (HAND_SIZE; i.e., hand size required for additional points)\n",
    "    returns: int >= 0\n",
    "    \"\"\"\n",
    "    # TO DO ... <-- Remove this comment when you code this function\n",
    "\n",
    "\n",
    "\n",
    "#\n",
    "# Problem #2: Make sure you understand how this function works and what it does!\n",
    "#\n",
    "def displayHand(hand):\n",
    "    \"\"\"\n",
    "    Displays the letters currently in the hand.\n",
    "\n",
    "    For example:\n",
    "    >>> displayHand({'a':1, 'x':2, 'l':3, 'e':1})\n",
    "    Should print out something like:\n",
    "       a x x l l l e\n",
    "    The order of the letters is unimportant.\n",
    "\n",
    "    hand: dictionary (string -> int)\n",
    "    \"\"\"\n",
    "    for letter in hand.keys():\n",
    "        for j in range(hand[letter]):\n",
    "             print letter,              # print all on the same line\n",
    "    print                               # print an empty line\n",
    "\n",
    "#\n",
    "# Problem #2: Make sure you understand how this function works and what it does!\n",
    "#\n",
    "def dealHand(n):\n",
    "    \"\"\"\n",
    "    Returns a random hand containing n lowercase letters.\n",
    "    At least n/3 the letters in the hand should be VOWELS.\n",
    "\n",
    "    Hands are represented as dictionaries. The keys are\n",
    "    letters and the values are the number of times the\n",
    "    particular letter is repeated in that hand.\n",
    "\n",
    "    n: int >= 0\n",
    "    returns: dictionary (string -> int)\n",
    "    \"\"\"\n",
    "    hand={}\n",
    "    numVowels = n / 3\n",
    "    \n",
    "    for i in range(numVowels):\n",
    "        x = VOWELS[random.randrange(0,len(VOWELS))]\n",
    "        hand[x] = hand.get(x, 0) + 1\n",
    "        \n",
    "    for i in range(numVowels, n):    \n",
    "        x = CONSONANTS[random.randrange(0,len(CONSONANTS))]\n",
    "        hand[x] = hand.get(x, 0) + 1\n",
    "        \n",
    "    return hand\n",
    "\n",
    "#\n",
    "# Problem #2: Update a hand by removing letters\n",
    "#\n",
    "def updateHand(hand, word):\n",
    "    \"\"\"\n",
    "    Assumes that 'hand' has all the letters in word.\n",
    "    In other words, this assumes that however many times\n",
    "    a letter appears in 'word', 'hand' has at least as\n",
    "    many of that letter in it. \n",
    "\n",
    "    Updates the hand: uses up the letters in the given word\n",
    "    and returns the new hand, without those letters in it.\n",
    "\n",
    "    Has no side effects: does not modify hand.\n",
    "\n",
    "    word: string\n",
    "    hand: dictionary (string -> int)    \n",
    "    returns: dictionary (string -> int)\n",
    "    \"\"\"\n",
    "    # TO DO ... <-- Remove this comment when you code this function\n",
    "\n",
    "\n",
    "\n",
    "#\n",
    "# Problem #3: Test word validity\n",
    "#\n",
    "def isValidWord(word, hand, wordList):\n",
    "    \"\"\"\n",
    "    Returns True if word is in the wordList and is entirely\n",
    "    composed of letters in the hand. Otherwise, returns False.\n",
    "\n",
    "    Does not mutate hand or wordList.\n",
    "   \n",
    "    word: string\n",
    "    hand: dictionary (string -> int)\n",
    "    wordList: list of lowercase strings\n",
    "    \"\"\"\n",
    "    # TO DO ... <-- Remove this comment when you code this function\n",
    "\n",
    "\n",
    "#\n",
    "# Problem #4: Playing a hand\n",
    "#\n",
    "\n",
    "def calculateHandlen(hand):\n",
    "    \"\"\" \n",
    "    Returns the length (number of letters) in the current hand.\n",
    "    \n",
    "    hand: dictionary (string-> int)\n",
    "    returns: integer\n",
    "    \"\"\"\n",
    "    # TO DO... <-- Remove this comment when you code this function\n",
    "\n",
    "\n",
    "\n",
    "def playHand(hand, wordList, n):\n",
    "    \"\"\"\n",
    "    Allows the user to play the given hand, as follows:\n",
    "\n",
    "    * The hand is displayed.\n",
    "    * The user may input a word or a single period (the string \".\") \n",
    "      to indicate they're done playing\n",
    "    * Invalid words are rejected, and a message is displayed asking\n",
    "      the user to choose another word until they enter a valid word or \".\"\n",
    "    * When a valid word is entered, it uses up letters from the hand.\n",
    "    * After every valid word: the score for that word is displayed,\n",
    "      the remaining letters in the hand are displayed, and the user\n",
    "      is asked to input another word.\n",
    "    * The sum of the word scores is displayed when the hand finishes.\n",
    "    * The hand finishes when there are no more unused letters or the user\n",
    "      inputs a \".\"\n",
    "\n",
    "      hand: dictionary (string -> int)\n",
    "      wordList: list of lowercase strings\n",
    "      n: integer (HAND_SIZE; i.e., hand size required for additional points)\n",
    "      \n",
    "    \"\"\"\n",
    "    # BEGIN PSEUDOCODE <-- Remove this comment when you code this function; do your coding within the pseudocode (leaving those comments in-place!)\n",
    "    # Keep track of the total score\n",
    "    \n",
    "    # As long as there are still letters left in the hand:\n",
    "    \n",
    "        # Display the hand\n",
    "        \n",
    "        # Ask user for input\n",
    "        \n",
    "        # If the input is a single period:\n",
    "        \n",
    "            # End the game (break out of the loop)\n",
    "\n",
    "            \n",
    "        # Otherwise (the input is not a single period):\n",
    "        \n",
    "            # If the word is not valid:\n",
    "            \n",
    "                # Reject invalid word (print a message followed by a blank line)\n",
    "\n",
    "            # Otherwise (the word is valid):\n",
    "\n",
    "                # Tell the user how many points the word earned, and the updated total score, in one line followed by a blank line\n",
    "                \n",
    "                # Update the hand \n",
    "                \n",
    "\n",
    "    # Game is over (user entered a '.' or ran out of letters), so tell user the total score\n",
    "\n",
    "\n",
    "#\n",
    "# Problem #5: Playing a game\n",
    "# \n",
    "\n",
    "def playGame(wordList):\n",
    "    \"\"\"\n",
    "    Allow the user to play an arbitrary number of hands.\n",
    "\n",
    "    1) Asks the user to input 'n' or 'r' or 'e'.\n",
    "      * If the user inputs 'n', let the user play a new (random) hand.\n",
    "      * If the user inputs 'r', let the user play the last hand again.\n",
    "      * If the user inputs 'e', exit the game.\n",
    "      * If the user inputs anything else, tell them their input was invalid.\n",
    " \n",
    "    2) When done playing the hand, repeat from step 1    \n",
    "    \"\"\"\n",
    "    # TO DO ... <-- Remove this comment when you code this function\n",
    "    print \"playGame not yet implemented.\" # <-- Remove this line when you code the function\n",
    "   \n",
    "\n",
    "\n",
    "\n",
    "#\n",
    "# Build data structures used for entire session and play game\n",
    "#\n",
    "if __name__ == '__main__':\n",
    "    wordList = loadWords()\n",
    "    playGame(wordList)\n"
   ]
  },
  {
   "cell_type": "code",
   "execution_count": 1,
   "metadata": {
    "collapsed": false
   },
   "outputs": [
    {
     "name": "stdout",
     "output_type": "stream",
     "text": [
      "Loading word list from file...\n",
      "   83667 words loaded.\n",
      "playGame not yet implemented.\n"
     ]
    }
   ],
   "source": [
    "from ps4a import *\n",
    "import time\n",
    "\n",
    "\n",
    "#\n",
    "#\n",
    "# Problem #6: Computer chooses a word\n",
    "#\n",
    "#\n",
    "def compChooseWord(hand, wordList, n):\n",
    "    \"\"\"\n",
    "    Given a hand and a wordList, find the word that gives \n",
    "    the maximum value score, and return it.\n",
    "\n",
    "    This word should be calculated by considering all the words\n",
    "    in the wordList.\n",
    "\n",
    "    If no words in the wordList can be made from the hand, return None.\n",
    "\n",
    "    hand: dictionary (string -> int)\n",
    "    wordList: list (string)\n",
    "    n: integer (HAND_SIZE; i.e., hand size required for additional points)\n",
    "\n",
    "    returns: string or None\n",
    "    \"\"\"\n",
    "    # BEGIN PSEUDOCODE <-- Remove this comment when you code this function; do your coding within the pseudocode (leaving those comments in-place!)\n",
    "    # Create a new variable to store the maximum score seen so far (initially 0)\n",
    "\n",
    "    # Create a new variable to store the best word seen so far (initially None)  \n",
    "\n",
    "    # For each word in the wordList\n",
    "\n",
    "        # If you can construct the word from your hand\n",
    "        # (hint: you can use isValidWord, or - since you don't really need to test if the word is in the wordList - you can make a similar function that omits that test)\n",
    "\n",
    "            # Find out how much making that word is worth\n",
    "\n",
    "            # If the score for that word is higher than your best score\n",
    "\n",
    "                # Update your best score, and best word accordingly\n",
    "\n",
    "\n",
    "    # return the best word you found.\n",
    "\n",
    "\n",
    "#\n",
    "# Problem #7: Computer plays a hand\n",
    "#\n",
    "def compPlayHand(hand, wordList, n):\n",
    "    \"\"\"\n",
    "    Allows the computer to play the given hand, following the same procedure\n",
    "    as playHand, except instead of the user choosing a word, the computer \n",
    "    chooses it.\n",
    "\n",
    "    1) The hand is displayed.\n",
    "    2) The computer chooses a word.\n",
    "    3) After every valid word: the word and the score for that word is \n",
    "    displayed, the remaining letters in the hand are displayed, and the \n",
    "    computer chooses another word.\n",
    "    4)  The sum of the word scores is displayed when the hand finishes.\n",
    "    5)  The hand finishes when the computer has exhausted its possible\n",
    "    choices (i.e. compChooseWord returns None).\n",
    " \n",
    "    hand: dictionary (string -> int)\n",
    "    wordList: list (string)\n",
    "    n: integer (HAND_SIZE; i.e., hand size required for additional points)\n",
    "    \"\"\"\n",
    "    # TO DO ... <-- Remove this comment when you code this function\n",
    "    \n",
    "#\n",
    "# Problem #8: Playing a game\n",
    "#\n",
    "#\n",
    "def playGame(wordList):\n",
    "    \"\"\"\n",
    "    Allow the user to play an arbitrary number of hands.\n",
    " \n",
    "    1) Asks the user to input 'n' or 'r' or 'e'.\n",
    "        * If the user inputs 'e', immediately exit the game.\n",
    "        * If the user inputs anything that's not 'n', 'r', or 'e', keep asking them again.\n",
    "\n",
    "    2) Asks the user to input a 'u' or a 'c'.\n",
    "        * If the user inputs anything that's not 'c' or 'u', keep asking them again.\n",
    "\n",
    "    3) Switch functionality based on the above choices:\n",
    "        * If the user inputted 'n', play a new (random) hand.\n",
    "        * Else, if the user inputted 'r', play the last hand again.\n",
    "      \n",
    "        * If the user inputted 'u', let the user play the game\n",
    "          with the selected hand, using playHand.\n",
    "        * If the user inputted 'c', let the computer play the \n",
    "          game with the selected hand, using compPlayHand.\n",
    "\n",
    "    4) After the computer or user has played the hand, repeat from step 1\n",
    "\n",
    "    wordList: list (string)\n",
    "    \"\"\"\n",
    "    # TO DO... <-- Remove this comment when you code this function\n",
    "    print \"playGame not yet implemented.\" # <-- Remove this when you code this function\n",
    "\n",
    "        \n",
    "#\n",
    "# Build data structures used for entire session and play game\n",
    "#\n",
    "if __name__ == '__main__':\n",
    "    wordList = loadWords()\n",
    "    playGame(wordList)\n"
   ]
  },
  {
   "cell_type": "code",
   "execution_count": 3,
   "metadata": {
    "collapsed": false
   },
   "outputs": [
    {
     "name": "stdout",
     "output_type": "stream",
     "text": [
      "Loading word list from file...\n",
      "   83667 words loaded.\n",
      "----------------------------------------------------------------------\n",
      "Testing getWordScore...\n",
      "FAILURE: test_getWordScore()\n",
      "\tExpected 4 points but got 'None' for word 'it', n=7\n",
      "FAILURE: test_getWordScore()\n",
      "\tExpected 44 points but got 'None' for word 'fork', n=7\n",
      "FAILURE: test_getWordScore()\n",
      "\tExpected 54 points but got 'None' for word 'scored', n=7\n",
      "FAILURE: test_getWordScore()\n",
      "\tExpected 94 points but got 'None' for word 'fork', n=4\n",
      "FAILURE: test_getWordScore()\n",
      "\tExpected 18 points but got 'None' for word 'was', n=7\n",
      "FAILURE: test_getWordScore()\n",
      "\tExpected 127 points but got 'None' for word 'outgnaw', n=7\n",
      "FAILURE: test_getWordScore()\n",
      "\tExpected 0 points but got 'None' for word '', n=7\n",
      "FAILURE: test_getWordScore()\n",
      "\tExpected 155 points but got 'None' for word 'waybill', n=7\n",
      "----------------------------------------------------------------------\n",
      "Testing updateHand...\n",
      "FAILURE: test_updateHand('quail', {'a': 1, 'i': 1, 'm': 1, 'l': 2, 'q': 1, 'u': 1})\n",
      "\tReturned:  None \n",
      "\t-- but expected: {'m': 1, 'l': 1} or {'a': 0, 'i': 0, 'm': 1, 'l': 1, 'q': 0, 'u': 0}\n",
      "----------------------------------------------------------------------\n",
      "Testing isValidWord...\n",
      "FAILURE: test_isValidWord()\n",
      "\tExpected True, but got False for word: 'hello' and hand: {'h': 1, 'e': 1, 'l': 2, 'o': 1}\n",
      "FAILURE: test_isValidWord()\n",
      "\tTesting word hello for a second time - have you modified wordList?\n",
      "The word hello should be in wordList - is it? True\n",
      "\tExpected True, but got False for word: 'hello' and hand: {'h': 1, 'e': 1, 'l': 2, 'o': 1}\n",
      "FAILURE: test_isValidWord()\n",
      "\tExpected True, but got False for word: 'honey' and hand: {'e': 2, 'd': 1, 'h': 1, 'o': 1, 'n': 1, 'w': 1, 'y': 1}\n",
      "FAILURE: test_isValidWord()\n",
      "\tExpected True, but got False for word: 'evil' and hand: {'i': 1, 'n': 1, 'e': 1, 'l': 2, 'v': 2}\n",
      "----------------------------------------------------------------------\n",
      "All done!\n"
     ]
    }
   ],
   "source": [
    "from ps4a import *\n",
    "\n",
    "#\n",
    "# Test code\n",
    "# You don't need to understand how this test code works (but feel free to look it over!)\n",
    "\n",
    "# To run these tests, simply run this file (open up in IDLE, then run the file as normal)\n",
    "\n",
    "def test_getWordScore():\n",
    "    \"\"\"\n",
    "    Unit test for getWordScore\n",
    "    \"\"\"\n",
    "    failure=False\n",
    "    # dictionary of words and scores\n",
    "    words = {(\"\", 7):0, (\"it\", 7):4, (\"was\", 7):18, (\"scored\", 7):54, (\"waybill\", 7):155, (\"outgnaw\", 7):127, (\"fork\", 7):44, (\"fork\", 4):94}\n",
    "    for (word, n) in words.keys():\n",
    "        score = getWordScore(word, n)\n",
    "        if score != words[(word, n)]:\n",
    "            print \"FAILURE: test_getWordScore()\"\n",
    "            print \"\\tExpected\", words[(word, n)], \"points but got '\" + str(score) + \"' for word '\" + word + \"', n=\" + str(n)\n",
    "            failure=True\n",
    "    if not failure:\n",
    "        print \"SUCCESS: test_getWordScore()\"\n",
    "\n",
    "# end of test_getWordScore\n",
    "\n",
    "\n",
    "def test_updateHand():\n",
    "    \"\"\"\n",
    "    Unit test for updateHand\n",
    "    \"\"\"\n",
    "    # test 1\n",
    "    handOrig = {'a':1, 'q':1, 'l':2, 'm':1, 'u':1, 'i':1}\n",
    "    handCopy = handOrig.copy()\n",
    "    word = \"quail\"\n",
    "\n",
    "    hand2 = updateHand(handCopy, word)\n",
    "    expectedHand1 = {'l':1, 'm':1}\n",
    "    expectedHand2 = {'a':0, 'q':0, 'l':1, 'm':1, 'u':0, 'i':0}\n",
    "    if hand2 != expectedHand1 and hand2 != expectedHand2:\n",
    "        print \"FAILURE: test_updateHand('\"+ word +\"', \" + str(handOrig) + \")\"\n",
    "        print \"\\tReturned: \", hand2, \"\\n\\t-- but expected:\", expectedHand1, \"or\", expectedHand2\n",
    "\n",
    "        return # exit function\n",
    "    if handCopy != handOrig:\n",
    "        print \"FAILURE: test_updateHand('\"+ word +\"', \" + str(handOrig) + \")\"\n",
    "        print \"\\tOriginal hand was\", handOrig\n",
    "        print \"\\tbut implementation of updateHand mutated the original hand!\"\n",
    "        print \"\\tNow the hand looks like this:\", handCopy\n",
    "        \n",
    "        return # exit function\n",
    "        \n",
    "    # test 2\n",
    "    handOrig = {'e':1, 'v':2, 'n':1, 'i':1, 'l':2}\n",
    "    handCopy = handOrig.copy()\n",
    "    word = \"evil\"\n",
    "\n",
    "    hand2 = updateHand(handCopy, word)\n",
    "    expectedHand1 = {'v':1, 'n':1, 'l':1}\n",
    "    expectedHand2 = {'e':0, 'v':1, 'n':1, 'i':0, 'l':1}\n",
    "    if hand2 != expectedHand1 and hand2 != expectedHand2:\n",
    "        print \"FAILURE: test_updateHand('\"+ word +\"', \" + str(handOrig) + \")\"        \n",
    "        print \"\\tReturned: \", hand2, \"\\n\\t-- but expected:\", expectedHand1, \"or\", expectedHand2\n",
    "\n",
    "        return # exit function\n",
    "\n",
    "    if handCopy != handOrig:\n",
    "        print \"FAILURE: test_updateHand('\"+ word +\"', \" + str(handOrig) + \")\"\n",
    "        print \"\\tOriginal hand was\", handOrig\n",
    "        print \"\\tbut implementation of updateHand mutated the original hand!\"\n",
    "        print \"\\tNow the hand looks like this:\", handCopy\n",
    "        \n",
    "        return # exit function\n",
    "\n",
    "    # test 3\n",
    "    handOrig = {'h': 1, 'e': 1, 'l': 2, 'o': 1}\n",
    "    handCopy = handOrig.copy()\n",
    "    word = \"hello\"\n",
    "\n",
    "    hand2 = updateHand(handCopy, word)\n",
    "    expectedHand1 = {}\n",
    "    expectedHand2 = {'h': 0, 'e': 0, 'l': 0, 'o': 0}\n",
    "    if hand2 != expectedHand1 and hand2 != expectedHand2:\n",
    "        print \"FAILURE: test_updateHand('\"+ word +\"', \" + str(handOrig) + \")\"                \n",
    "        print \"\\tReturned: \", hand2, \"\\n\\t-- but expected:\", expectedHand1, \"or\", expectedHand2\n",
    "        \n",
    "        return # exit function\n",
    "\n",
    "    if handCopy != handOrig:\n",
    "        print \"FAILURE: test_updateHand('\"+ word +\"', \" + str(handOrig) + \")\"\n",
    "        print \"\\tOriginal hand was\", handOrig\n",
    "        print \"\\tbut implementation of updateHand mutated the original hand!\"\n",
    "        print \"\\tNow the hand looks like this:\", handCopy\n",
    "        \n",
    "        return # exit function\n",
    "\n",
    "    print \"SUCCESS: test_updateHand()\"\n",
    "\n",
    "# end of test_updateHand\n",
    "\n",
    "def test_isValidWord(wordList):\n",
    "    \"\"\"\n",
    "    Unit test for isValidWord\n",
    "    \"\"\"\n",
    "    failure=False\n",
    "    # test 1\n",
    "    word = \"hello\"\n",
    "    handOrig = getFrequencyDict(word)\n",
    "    handCopy = handOrig.copy()\n",
    "\n",
    "    if not isValidWord(word, handCopy, wordList):\n",
    "        print \"FAILURE: test_isValidWord()\"\n",
    "        print \"\\tExpected True, but got False for word: '\" + word + \"' and hand:\", handOrig\n",
    "\n",
    "        failure = True\n",
    "\n",
    "    # Test a second time to see if wordList or hand has been modified\n",
    "    if not isValidWord(word, handCopy, wordList):\n",
    "        print \"FAILURE: test_isValidWord()\"\n",
    "\n",
    "        if handCopy != handOrig:\n",
    "            print \"\\tTesting word\", word, \"for a second time - be sure you're not modifying hand.\"\n",
    "            print \"\\tAt this point, hand ought to be\", handOrig, \"but it is\", handCopy\n",
    "\n",
    "        else:\n",
    "            print \"\\tTesting word\", word, \"for a second time - have you modified wordList?\"\n",
    "            wordInWL = word in wordList\n",
    "            print \"The word\", word, \"should be in wordList - is it?\", wordInWL\n",
    "\n",
    "        print \"\\tExpected True, but got False for word: '\" + word + \"' and hand:\", handCopy\n",
    "\n",
    "        failure = True\n",
    "\n",
    "\n",
    "    # test 2\n",
    "    hand = {'r': 1, 'a': 3, 'p': 2, 'e': 1, 't': 1, 'u':1}\n",
    "    word = \"rapture\"\n",
    "\n",
    "    if  isValidWord(word, hand, wordList):\n",
    "        print \"FAILURE: test_isValidWord()\"\n",
    "        print \"\\tExpected False, but got True for word: '\" + word + \"' and hand:\", hand\n",
    "\n",
    "        failure = True        \n",
    "\n",
    "    # test 3\n",
    "    hand = {'n': 1, 'h': 1, 'o': 1, 'y': 1, 'd':1, 'w':1, 'e': 2}\n",
    "    word = \"honey\"\n",
    "\n",
    "    if  not isValidWord(word, hand, wordList):\n",
    "        print \"FAILURE: test_isValidWord()\"\n",
    "        print \"\\tExpected True, but got False for word: '\"+ word +\"' and hand:\", hand\n",
    "\n",
    "        failure = True                        \n",
    "\n",
    "    # test 4\n",
    "    hand = {'r': 1, 'a': 3, 'p': 2, 't': 1, 'u':2}\n",
    "    word = \"honey\"\n",
    "\n",
    "    if  isValidWord(word, hand, wordList):\n",
    "        print \"FAILURE: test_isValidWord()\"\n",
    "        print \"\\tExpected False, but got True for word: '\" + word + \"' and hand:\", hand\n",
    "        \n",
    "        failure = True\n",
    "\n",
    "    # test 5\n",
    "    hand = {'e':1, 'v':2, 'n':1, 'i':1, 'l':2}\n",
    "    word = \"evil\"\n",
    "    \n",
    "    if  not isValidWord(word, hand, wordList):\n",
    "        print \"FAILURE: test_isValidWord()\"\n",
    "        print \"\\tExpected True, but got False for word: '\" + word + \"' and hand:\", hand\n",
    "        \n",
    "        failure = True\n",
    "        \n",
    "    # test 6\n",
    "    word = \"even\"\n",
    "\n",
    "    if  isValidWord(word, hand, wordList):\n",
    "        print \"FAILURE: test_isValidWord()\"\n",
    "        print \"\\tExpected False, but got True for word: '\" + word + \"' and hand:\", hand\n",
    "        print \"\\t(If this is the only failure, make sure isValidWord() isn't mutating its inputs)\"        \n",
    "        \n",
    "        failure = True        \n",
    "\n",
    "    if not failure:\n",
    "        print \"SUCCESS: test_isValidWord()\"\n",
    "\n",
    "\n",
    "wordList = loadWords()\n",
    "print \"----------------------------------------------------------------------\"\n",
    "print \"Testing getWordScore...\"\n",
    "test_getWordScore()\n",
    "print \"----------------------------------------------------------------------\"\n",
    "print \"Testing updateHand...\"\n",
    "test_updateHand()\n",
    "print \"----------------------------------------------------------------------\"\n",
    "print \"Testing isValidWord...\"\n",
    "test_isValidWord(wordList)\n",
    "print \"----------------------------------------------------------------------\"\n",
    "print \"All done!\"\n"
   ]
  },
  {
   "cell_type": "code",
   "execution_count": 5,
   "metadata": {
    "collapsed": false
   },
   "outputs": [],
   "source": [
    "def getWordScore(word, n):\n",
    "    \"\"\"\n",
    "    Returns the score for a word. Assumes the word is a valid word.\n",
    "\n",
    "    The score for a word is the sum of the points for letters in the\n",
    "    word, multiplied by the length of the word, PLUS 50 points if all n\n",
    "    letters are used on the first turn.\n",
    "\n",
    "    Letters are scored as in Scrabble; A is worth 1, B is worth 3, C is\n",
    "    worth 3, D is worth 2, E is worth 1, and so on (see SCRABBLE_LETTER_VALUES)\n",
    "\n",
    "    word: string (lowercase letters)\n",
    "    n: integer (HAND_SIZE; i.e., hand size required for additional points)\n",
    "    returns: int >= 0\n",
    "    \"\"\"\n",
    "    score = 0\n",
    "    for letter in word:\n",
    "        score = score + SCRABBLE_LETTER_VALUES[letter]*len(word)  \n",
    "    if len(word) == n:\n",
    "        score = score + 50\n",
    "    return score\n"
   ]
  },
  {
   "cell_type": "code",
   "execution_count": 14,
   "metadata": {
    "collapsed": false
   },
   "outputs": [],
   "source": [
    "def updateHand(hand, word):\n",
    "    \"\"\"\n",
    "    Assumes that 'hand' has all the letters in word.\n",
    "    In other words, this assumes that however many times\n",
    "    a letter appears in 'word', 'hand' has at least as\n",
    "    many of that letter in it. \n",
    "\n",
    "    Updates the hand: uses up the letters in the given word\n",
    "    and returns the new hand, without those letters in it.\n",
    "\n",
    "    Has no side effects: does not modify hand.\n",
    "\n",
    "    word: string\n",
    "    hand: dictionary (string -> int)    \n",
    "    returns: dictionary (string -> int)\n",
    "    \"\"\"\n",
    "    update = hand.copy()\n",
    "    for letter in word:\n",
    "        update[letter] = update.get(letter) - 1\n",
    "    return update"
   ]
  },
  {
   "cell_type": "code",
   "execution_count": 8,
   "metadata": {
    "collapsed": false
   },
   "outputs": [
    {
     "data": {
      "text/plain": [
       "1"
      ]
     },
     "execution_count": 8,
     "metadata": {},
     "output_type": "execute_result"
    }
   ],
   "source": [
    "hand = {'a': 1}\n",
    "hand.get('a')\n"
   ]
  },
  {
   "cell_type": "code",
   "execution_count": 9,
   "metadata": {
    "collapsed": true
   },
   "outputs": [],
   "source": [
    "l1 = [2,3,4]"
   ]
  },
  {
   "cell_type": "code",
   "execution_count": 10,
   "metadata": {
    "collapsed": false
   },
   "outputs": [
    {
     "data": {
      "text/plain": [
       "{'a': 1}"
      ]
     },
     "execution_count": 10,
     "metadata": {},
     "output_type": "execute_result"
    }
   ],
   "source": [
    "hand"
   ]
  },
  {
   "cell_type": "code",
   "execution_count": 11,
   "metadata": {
    "collapsed": false
   },
   "outputs": [
    {
     "ename": "TypeError",
     "evalue": "unhashable type",
     "output_type": "error",
     "traceback": [
      "\u001b[0;31m---------------------------------------------------------------------------\u001b[0m",
      "\u001b[0;31mTypeError\u001b[0m                                 Traceback (most recent call last)",
      "\u001b[0;32m<ipython-input-11-3c1c548c0cc1>\u001b[0m in \u001b[0;36m<module>\u001b[0;34m()\u001b[0m\n\u001b[0;32m----> 1\u001b[0;31m \u001b[0mupdate\u001b[0m \u001b[0;34m=\u001b[0m \u001b[0mhand\u001b[0m\u001b[0;34m[\u001b[0m\u001b[0;34m:\u001b[0m\u001b[0;34m]\u001b[0m\u001b[0;34m\u001b[0m\u001b[0m\n\u001b[0m\u001b[1;32m      2\u001b[0m \u001b[0mupdate\u001b[0m\u001b[0;34m\u001b[0m\u001b[0m\n",
      "\u001b[0;31mTypeError\u001b[0m: unhashable type"
     ]
    }
   ],
   "source": [
    "update = hand[:]\n",
    "update"
   ]
  },
  {
   "cell_type": "code",
   "execution_count": 12,
   "metadata": {
    "collapsed": true
   },
   "outputs": [],
   "source": [
    "update = hand.copy()"
   ]
  },
  {
   "cell_type": "code",
   "execution_count": 13,
   "metadata": {
    "collapsed": false
   },
   "outputs": [
    {
     "data": {
      "text/plain": [
       "{'a': 1}"
      ]
     },
     "execution_count": 13,
     "metadata": {},
     "output_type": "execute_result"
    }
   ],
   "source": [
    "update"
   ]
  },
  {
   "cell_type": "code",
   "execution_count": 17,
   "metadata": {
    "collapsed": false
   },
   "outputs": [
    {
     "data": {
      "text/plain": [
       "['a']"
      ]
     },
     "execution_count": 17,
     "metadata": {},
     "output_type": "execute_result"
    }
   ],
   "source": [
    "update.keys()"
   ]
  },
  {
   "cell_type": "code",
   "execution_count": 19,
   "metadata": {
    "collapsed": false
   },
   "outputs": [],
   "source": [
    "update['b'] = 2"
   ]
  },
  {
   "cell_type": "code",
   "execution_count": 20,
   "metadata": {
    "collapsed": false
   },
   "outputs": [
    {
     "data": {
      "text/plain": [
       "['a', 'b']"
      ]
     },
     "execution_count": 20,
     "metadata": {},
     "output_type": "execute_result"
    }
   ],
   "source": [
    "update.keys()"
   ]
  },
  {
   "cell_type": "code",
   "execution_count": 21,
   "metadata": {
    "collapsed": false
   },
   "outputs": [
    {
     "ename": "IndentationError",
     "evalue": "expected an indented block (<ipython-input-21-6de9cee9fe16>, line 16)",
     "output_type": "error",
     "traceback": [
      "\u001b[0;36m  File \u001b[0;32m\"<ipython-input-21-6de9cee9fe16>\"\u001b[0;36m, line \u001b[0;32m16\u001b[0m\n\u001b[0;31m    else:\u001b[0m\n\u001b[0m       ^\u001b[0m\n\u001b[0;31mIndentationError\u001b[0m\u001b[0;31m:\u001b[0m expected an indented block\n"
     ]
    }
   ],
   "source": [
    "def isValidWord(word, hand, wordList):\n",
    "    \"\"\"\n",
    "    Returns True if word is in the wordList and is entirely\n",
    "    composed of letters in the hand. Otherwise, returns False.\n",
    "\n",
    "    Does not mutate hand or wordList.\n",
    "   \n",
    "    word: string\n",
    "    hand: dictionary (string -> int)\n",
    "    wordList: list of lowercase strings\n",
    "    \n",
    "    \"\"\"\n",
    "    update = hand.copy()\n",
    "    word_dict = getFrequencyDict(word)\n",
    "    \n",
    "    if word not in wordList:\n",
    "        return False\n",
    "    try:\n",
    "        for key in word_dict.keys():\n",
    "            update[key] -= word_dict[key]\n",
    "            if update.get(key, 0) < 0:\n",
    "                return False\n",
    "    except KeyError as e:\n",
    "        return False\n",
    "\n",
    "    return True\n",
    "        "
   ]
  },
  {
   "cell_type": "code",
   "execution_count": 32,
   "metadata": {
    "collapsed": false
   },
   "outputs": [
    {
     "name": "stdout",
     "output_type": "stream",
     "text": [
      "True\n",
      "True\n",
      "True\n",
      "True\n"
     ]
    }
   ],
   "source": [
    "word = 'tteaq'\n",
    "hand = {'a': 1, 'e': 1, 'k': 1, 'j': 1, 'u': 1, 't': 1, 'z': 1}\n",
    "for letter in word:\n",
    "    if letter in hand.keys():\n",
    "        print True\n",
    "    "
   ]
  },
  {
   "cell_type": "code",
   "execution_count": null,
   "metadata": {
    "collapsed": true
   },
   "outputs": [],
   "source": []
  },
  {
   "cell_type": "code",
   "execution_count": 28,
   "metadata": {
    "collapsed": false
   },
   "outputs": [
    {
     "data": {
      "text/plain": [
       "False"
      ]
     },
     "execution_count": 28,
     "metadata": {},
     "output_type": "execute_result"
    }
   ],
   "source": [
    "hand.get('m', False)"
   ]
  },
  {
   "cell_type": "code",
   "execution_count": 29,
   "metadata": {
    "collapsed": false
   },
   "outputs": [
    {
     "name": "stdout",
     "output_type": "stream",
     "text": [
      "q\n"
     ]
    }
   ],
   "source": [
    "for letter in word:\n",
    "    if letter not in hand.keys():\n",
    "        print letter\n",
    "    else:\n",
    "        if "
   ]
  },
  {
   "cell_type": "code",
   "execution_count": 33,
   "metadata": {
    "collapsed": false
   },
   "outputs": [
    {
     "data": {
      "text/plain": [
       "2"
      ]
     },
     "execution_count": 33,
     "metadata": {},
     "output_type": "execute_result"
    }
   ],
   "source": [
    "word.count('t')"
   ]
  },
  {
   "cell_type": "code",
   "execution_count": 31,
   "metadata": {
    "collapsed": false
   },
   "outputs": [
    {
     "data": {
      "text/plain": [
       "'teaq'"
      ]
     },
     "execution_count": 31,
     "metadata": {},
     "output_type": "execute_result"
    }
   ],
   "source": [
    "word"
   ]
  },
  {
   "cell_type": "code",
   "execution_count": 34,
   "metadata": {
    "collapsed": false
   },
   "outputs": [
    {
     "data": {
      "text/plain": [
       "1"
      ]
     },
     "execution_count": 34,
     "metadata": {},
     "output_type": "execute_result"
    }
   ],
   "source": [
    "hand['t']"
   ]
  },
  {
   "cell_type": "code",
   "execution_count": 37,
   "metadata": {
    "collapsed": true
   },
   "outputs": [],
   "source": [
    "def calculateHandlen(hand):\n",
    "    \"\"\" \n",
    "    Returns the length (number of letters) in the current hand.\n",
    "    \n",
    "    hand: dictionary (string int)\n",
    "    returns: integer\n",
    "    \"\"\"\n",
    "    result = 0\n",
    "    for key in hand.keys():\n",
    "        result = result + hand[key]\n",
    "    return result\n",
    "    \n"
   ]
  },
  {
   "cell_type": "code",
   "execution_count": 38,
   "metadata": {
    "collapsed": false
   },
   "outputs": [
    {
     "data": {
      "text/plain": [
       "7"
      ]
     },
     "execution_count": 38,
     "metadata": {},
     "output_type": "execute_result"
    }
   ],
   "source": [
    "calculateHandlen(hand)"
   ]
  },
  {
   "cell_type": "code",
   "execution_count": 39,
   "metadata": {
    "collapsed": false
   },
   "outputs": [
    {
     "data": {
      "text/plain": [
       "{'a': 1, 'e': 1, 'j': 1, 'k': 1, 't': 1, 'u': 1, 'z': 1}"
      ]
     },
     "execution_count": 39,
     "metadata": {},
     "output_type": "execute_result"
    }
   ],
   "source": [
    "hand"
   ]
  },
  {
   "cell_type": "code",
   "execution_count": 40,
   "metadata": {
    "collapsed": true
   },
   "outputs": [],
   "source": [
    "hand['a'] = 10"
   ]
  },
  {
   "cell_type": "code",
   "execution_count": 41,
   "metadata": {
    "collapsed": false
   },
   "outputs": [
    {
     "data": {
      "text/plain": [
       "{'a': 10, 'e': 1, 'j': 1, 'k': 1, 't': 1, 'u': 1, 'z': 1}"
      ]
     },
     "execution_count": 41,
     "metadata": {},
     "output_type": "execute_result"
    }
   ],
   "source": [
    "hand\n"
   ]
  },
  {
   "cell_type": "code",
   "execution_count": 42,
   "metadata": {
    "collapsed": false
   },
   "outputs": [
    {
     "data": {
      "text/plain": [
       "16"
      ]
     },
     "execution_count": 42,
     "metadata": {},
     "output_type": "execute_result"
    }
   ],
   "source": [
    "calculateHandlen(hand)"
   ]
  },
  {
   "cell_type": "code",
   "execution_count": null,
   "metadata": {
    "collapsed": true
   },
   "outputs": [],
   "source": [
    "def playHand(hand, wordList, n):\n",
    "    \"\"\"\n",
    "    Allows the user to play the given hand, as follows:\n",
    "\n",
    "    * The hand is displayed.\n",
    "    * The user may input a word or a single period (the string \".\") \n",
    "      to indicate they're done playing\n",
    "    * Invalid words are rejected, and a message is displayed asking\n",
    "      the user to choose another word until they enter a valid word or \".\"\n",
    "    * When a valid word is entered, it uses up letters from the hand.\n",
    "    * After every valid word: the score for that word is displayed,\n",
    "      the remaining letters in the hand are displayed, and the user\n",
    "      is asked to input another word.\n",
    "    * The sum of the word scores is displayed when the hand finishes.\n",
    "    * The hand finishes when there are no more unused letters or the user\n",
    "      inputs a \".\"\n",
    "\n",
    "      hand: dictionary (string -> int)\n",
    "      wordList: list of lowercase strings\n",
    "      n: integer (HAND_SIZE; i.e., hand size required for additional points)\n",
    "      \n",
    "    \"\"\"\n",
    "    # BEGIN PSEUDOCODE (download ps4a.py to see)\n",
    "\n",
    "\n",
    "    # Keep track of the total score\n",
    "    score = 0\n",
    "    \n",
    "    # As long as there are still letters left in the hand:\n",
    "    while calculateHandlen(hand) >0:\n",
    "    \n",
    "        # Display the hand\n",
    "        print (\"Current hand: \")\n",
    "   \n",
    "        \n",
    "        # Ask user for input\n",
    "        x = str(raw_input('Enter word, or a \".\" to indicate that you are finished: '))\n",
    "        \n",
    "        # If the input is a single period:\n",
    "        if x == \".\":\n",
    "        \n",
    "            # End the game (break out of the loop)\n",
    "            break\n",
    "\n",
    "            \n",
    "        # Otherwise (the input is not a single period):\n",
    "        else:\n",
    "        \n",
    "            # If the word is not valid:\n",
    "            if isValidWord(x, hand, wordList) == False:\n",
    "            \n",
    "                # Reject invalid word (print a message followed by a blank line)\n",
    "                print \"Invalid word, please try again.\"\n",
    "\n",
    "            # Otherwise (the word is valid):\n",
    "            else:\n",
    "\n",
    "                # Tell the user how many points the word earned, and the updated total score, in one line followed by a blank line\n",
    "                print( x + \" earned \" + str(getWordScore(x, n)) + \" points.\" )\n",
    "                score = score + getWordScore(x, n)\n",
    "                # Update the hand \n",
    "                hand = updateHand(hand, x)\n",
    "                \n",
    "\n",
    "    # Game is over (user entered a '.' or ran out of letters), so tell user the total score\n",
    "    print \"Run out of letters. Total score:\" + str(score)"
   ]
  }
 ],
 "metadata": {
  "kernelspec": {
   "display_name": "Python 2",
   "language": "python",
   "name": "python2"
  },
  "language_info": {
   "codemirror_mode": {
    "name": "ipython",
    "version": 2
   },
   "file_extension": ".py",
   "mimetype": "text/x-python",
   "name": "python",
   "nbconvert_exporter": "python",
   "pygments_lexer": "ipython2",
   "version": "2.7.11"
  }
 },
 "nbformat": 4,
 "nbformat_minor": 0
}
