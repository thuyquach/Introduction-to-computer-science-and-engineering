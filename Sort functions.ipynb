{
 "cells": [
  {
   "cell_type": "code",
   "execution_count": 1,
   "metadata": {
    "collapsed": true
   },
   "outputs": [],
   "source": [
    "def selSort(L):\n",
    "    for i in range(len(L) - 1):\n",
    "        minIndx = i\n",
    "        minVal = L[i]\n",
    "        j = i+1\n",
    "        while j < len(L):\n",
    "            if minVal > L[j]:\n",
    "                minIndx = j\n",
    "                minVal = L[j]\n",
    "            j += 1\n",
    "        if minIndx != i:\n",
    "            temp = L[i]\n",
    "            L[i] = L[minIndx]\n",
    "            L[minIndx] = temp"
   ]
  },
  {
   "cell_type": "code",
   "execution_count": 2,
   "metadata": {
    "collapsed": true
   },
   "outputs": [],
   "source": [
    "def newSort(L):\n",
    "    for i in range(len(L) - 1):\n",
    "        j=i+1\n",
    "        while j < len(L):\n",
    "            if L[i] > L[j]:\n",
    "                temp = L[i]\n",
    "                L[i] = L[j]\n",
    "                L[j] = temp\n",
    "            j += 1"
   ]
  }
 ],
 "metadata": {
  "kernelspec": {
   "display_name": "Python 2",
   "language": "python",
   "name": "python2"
  },
  "language_info": {
   "codemirror_mode": {
    "name": "ipython",
    "version": 2
   },
   "file_extension": ".py",
   "mimetype": "text/x-python",
   "name": "python",
   "nbconvert_exporter": "python",
   "pygments_lexer": "ipython2",
   "version": "2.7.11"
  }
 },
 "nbformat": 4,
 "nbformat_minor": 0
}
