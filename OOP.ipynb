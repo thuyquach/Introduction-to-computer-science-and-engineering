{
 "cells": [
  {
   "cell_type": "code",
   "execution_count": 2,
   "metadata": {
    "collapsed": true
   },
   "outputs": [],
   "source": [
    "import datetime\n",
    "\n",
    "class Person(object):\n",
    "    def __init__(self, name):\n",
    "        \"\"\"create a person called name\"\"\"\n",
    "        self.name = name\n",
    "        self.birthday = None\n",
    "        self.lastName = name.split(' ')[-1]\n",
    "\n",
    "    def getLastName(self):\n",
    "        \"\"\"return self's last name\"\"\"\n",
    "        return self.lastName\n",
    "\n",
    "    def setBirthday(self,month,day,year):\n",
    "        \"\"\"sets self's birthday to birthDate\"\"\"\n",
    "        self.birthday = datetime.date(year,month,day)\n",
    "\n",
    "    def getAge(self):\n",
    "        \"\"\"returns self's current age in days\"\"\"\n",
    "        if self.birthday == None:\n",
    "            raise ValueError\n",
    "        return (datetime.date.today() - self.birthday).days\n",
    "\n",
    "    def __lt__(self, other):\n",
    "        \"\"\"return True if self's ame is lexicographically\n",
    "           less than other's name, and False otherwise\"\"\"\n",
    "        if self.lastName == other.lastName:\n",
    "            return self.name < other.name\n",
    "        return self.lastName < other.lastName\n",
    "\n",
    "    def __str__(self):\n",
    "        \"\"\"return self's name\"\"\"\n",
    "        return self.name\n",
    "\n",
    "# me = Person(\"William Eric Grimson\")\n",
    "# print me\n",
    "# foo = 'William Eric Grimson'\n",
    "# foo.split(' ')\n",
    "# foo.split(' ')[-1]\n",
    "# me.getLastName()\n",
    "#\n",
    "# me.setBirthday(1,2,1927)\n",
    "# me.getAge()\n",
    "#\n",
    "# her = Person(\"Cher\")\n",
    "# her.getLastName()\n",
    "# plist = [me, her]\n",
    "# for p in plist: print p\n",
    "# plist.sort()\n",
    "# for p in plist: print p\n"
   ]
  },
  {
   "cell_type": "code",
   "execution_count": 3,
   "metadata": {
    "collapsed": true
   },
   "outputs": [],
   "source": [
    "me = Person('Thuy Quach')"
   ]
  },
  {
   "cell_type": "code",
   "execution_count": 6,
   "metadata": {
    "collapsed": false
   },
   "outputs": [
    {
     "data": {
      "text/plain": [
       "'Quach'"
      ]
     },
     "execution_count": 6,
     "metadata": {},
     "output_type": "execute_result"
    }
   ],
   "source": [
    "me.getLastName()"
   ]
  },
  {
   "cell_type": "code",
   "execution_count": 12,
   "metadata": {
    "collapsed": false
   },
   "outputs": [],
   "source": [
    "me.setBirthday(2,2,1980)"
   ]
  },
  {
   "cell_type": "code",
   "execution_count": 13,
   "metadata": {
    "collapsed": false
   },
   "outputs": [
    {
     "data": {
      "text/plain": [
       "13172"
      ]
     },
     "execution_count": 13,
     "metadata": {},
     "output_type": "execute_result"
    }
   ],
   "source": [
    "me.getAge()"
   ]
  },
  {
   "cell_type": "code",
   "execution_count": 16,
   "metadata": {
    "collapsed": false
   },
   "outputs": [
    {
     "data": {
      "text/plain": [
       "'Long'"
      ]
     },
     "execution_count": 16,
     "metadata": {},
     "output_type": "execute_result"
    }
   ],
   "source": [
    "him = Person(\"Long\")\n",
    "him.getLastName()"
   ]
  },
  {
   "cell_type": "code",
   "execution_count": 19,
   "metadata": {
    "collapsed": false
   },
   "outputs": [
    {
     "name": "stdout",
     "output_type": "stream",
     "text": [
      "Thuy Quach\n",
      "Long\n"
     ]
    }
   ],
   "source": [
    "plist = [me, him]\n",
    "for p in plist:\n",
    "    print p"
   ]
  },
  {
   "cell_type": "code",
   "execution_count": 20,
   "metadata": {
    "collapsed": true
   },
   "outputs": [],
   "source": [
    "plist.sort()"
   ]
  },
  {
   "cell_type": "code",
   "execution_count": 22,
   "metadata": {
    "collapsed": false
   },
   "outputs": [
    {
     "name": "stdout",
     "output_type": "stream",
     "text": [
      "Long\n",
      "Thuy Quach\n"
     ]
    }
   ],
   "source": [
    "for p in plist:\n",
    "    print p"
   ]
  },
  {
   "cell_type": "code",
   "execution_count": 23,
   "metadata": {
    "collapsed": false
   },
   "outputs": [
    {
     "data": {
      "text/plain": [
       "False"
      ]
     },
     "execution_count": 23,
     "metadata": {},
     "output_type": "execute_result"
    }
   ],
   "source": [
    "me.__lt__(him)"
   ]
  },
  {
   "cell_type": "code",
   "execution_count": 24,
   "metadata": {
    "collapsed": true
   },
   "outputs": [],
   "source": [
    "\n",
    "class MITPerson(Person): # inheritance from class Person\n",
    "    nextIdNum = 0 # next ID number to assign. This is an attribute binding to the class MITPerson\n",
    "\n",
    "    def __init__(self, name):\n",
    "        Person.__init__(self, name) # initialize Person attributes\n",
    "        # new MITPerson attribute: a unique ID number\n",
    "        self.idNum = MITPerson.nextIdNum # add new instance attribute\n",
    "        MITPerson.nextIdNum += 1\n",
    "\n",
    "    def getIdNum(self):\n",
    "        return self.idNum\n",
    "\n",
    "    # sorting MIT people uses their ID number, not name!\n",
    "    def __lt__(self, other):\n",
    "        return self.idNum < other.idNum\n",
    "\n",
    "p1 = MITPerson('Eric')\n",
    "p2 = MITPerson('John')\n",
    "p3 = MITPerson('John')\n",
    "p4 = Person('John')\n",
    "\n",
    "# print p1\n",
    "# p1.getIdNum()\n",
    "# p2.getIdNum()\n",
    "# p1 < p2\n",
    "# p3 < p2\n",
    "# p4 < p1\n",
    "\n",
    "# p1 < p4\n",
    "\n"
   ]
  },
  {
   "cell_type": "code",
   "execution_count": 25,
   "metadata": {
    "collapsed": false
   },
   "outputs": [
    {
     "name": "stdout",
     "output_type": "stream",
     "text": [
      "Eric\n"
     ]
    }
   ],
   "source": [
    "print p1"
   ]
  },
  {
   "cell_type": "code",
   "execution_count": 27,
   "metadata": {
    "collapsed": false
   },
   "outputs": [
    {
     "data": {
      "text/plain": [
       "0"
      ]
     },
     "execution_count": 27,
     "metadata": {},
     "output_type": "execute_result"
    }
   ],
   "source": [
    "p1.getIdNum()"
   ]
  },
  {
   "cell_type": "code",
   "execution_count": 28,
   "metadata": {
    "collapsed": false
   },
   "outputs": [
    {
     "name": "stdout",
     "output_type": "stream",
     "text": [
      "John\n"
     ]
    }
   ],
   "source": [
    "print p2"
   ]
  },
  {
   "cell_type": "code",
   "execution_count": 29,
   "metadata": {
    "collapsed": false
   },
   "outputs": [
    {
     "data": {
      "text/plain": [
       "1"
      ]
     },
     "execution_count": 29,
     "metadata": {},
     "output_type": "execute_result"
    }
   ],
   "source": [
    "p2.getIdNum()"
   ]
  },
  {
   "cell_type": "code",
   "execution_count": 30,
   "metadata": {
    "collapsed": false
   },
   "outputs": [
    {
     "name": "stdout",
     "output_type": "stream",
     "text": [
      "John\n"
     ]
    }
   ],
   "source": [
    "print p3"
   ]
  },
  {
   "cell_type": "code",
   "execution_count": 31,
   "metadata": {
    "collapsed": false
   },
   "outputs": [
    {
     "data": {
      "text/plain": [
       "2"
      ]
     },
     "execution_count": 31,
     "metadata": {},
     "output_type": "execute_result"
    }
   ],
   "source": [
    "p3.getIdNum()"
   ]
  },
  {
   "cell_type": "code",
   "execution_count": 32,
   "metadata": {
    "collapsed": false
   },
   "outputs": [
    {
     "data": {
      "text/plain": [
       "True"
      ]
     },
     "execution_count": 32,
     "metadata": {},
     "output_type": "execute_result"
    }
   ],
   "source": [
    "p1<p2"
   ]
  },
  {
   "cell_type": "code",
   "execution_count": 33,
   "metadata": {
    "collapsed": false
   },
   "outputs": [
    {
     "data": {
      "text/plain": [
       "False"
      ]
     },
     "execution_count": 33,
     "metadata": {},
     "output_type": "execute_result"
    }
   ],
   "source": [
    "p2<p1"
   ]
  },
  {
   "cell_type": "code",
   "execution_count": 34,
   "metadata": {
    "collapsed": false
   },
   "outputs": [
    {
     "name": "stdout",
     "output_type": "stream",
     "text": [
      "John\n"
     ]
    }
   ],
   "source": [
    "print p4"
   ]
  },
  {
   "cell_type": "code",
   "execution_count": 35,
   "metadata": {
    "collapsed": false
   },
   "outputs": [
    {
     "data": {
      "text/plain": [
       "False"
      ]
     },
     "execution_count": 35,
     "metadata": {},
     "output_type": "execute_result"
    }
   ],
   "source": [
    "p4<p2"
   ]
  },
  {
   "cell_type": "code",
   "execution_count": 37,
   "metadata": {
    "collapsed": false
   },
   "outputs": [
    {
     "ename": "AttributeError",
     "evalue": "'Person' object has no attribute 'idNum'",
     "output_type": "error",
     "traceback": [
      "\u001b[0;31m---------------------------------------------------------------------------\u001b[0m",
      "\u001b[0;31mAttributeError\u001b[0m                            Traceback (most recent call last)",
      "\u001b[0;32m<ipython-input-37-4ecf7fff36b8>\u001b[0m in \u001b[0;36m<module>\u001b[0;34m()\u001b[0m\n\u001b[0;32m----> 1\u001b[0;31m \u001b[0mp1\u001b[0m\u001b[0;34m<\u001b[0m\u001b[0mp4\u001b[0m\u001b[0;34m\u001b[0m\u001b[0m\n\u001b[0m",
      "\u001b[0;32m<ipython-input-24-b6dd4e903351>\u001b[0m in \u001b[0;36m__lt__\u001b[0;34m(self, other)\u001b[0m\n\u001b[1;32m     14\u001b[0m     \u001b[0;31m# sorting MIT people uses their ID number, not name!\u001b[0m\u001b[0;34m\u001b[0m\u001b[0;34m\u001b[0m\u001b[0m\n\u001b[1;32m     15\u001b[0m     \u001b[0;32mdef\u001b[0m \u001b[0m__lt__\u001b[0m\u001b[0;34m(\u001b[0m\u001b[0mself\u001b[0m\u001b[0;34m,\u001b[0m \u001b[0mother\u001b[0m\u001b[0;34m)\u001b[0m\u001b[0;34m:\u001b[0m\u001b[0;34m\u001b[0m\u001b[0m\n\u001b[0;32m---> 16\u001b[0;31m         \u001b[0;32mreturn\u001b[0m \u001b[0mself\u001b[0m\u001b[0;34m.\u001b[0m\u001b[0midNum\u001b[0m \u001b[0;34m<\u001b[0m \u001b[0mother\u001b[0m\u001b[0;34m.\u001b[0m\u001b[0midNum\u001b[0m\u001b[0;34m\u001b[0m\u001b[0m\n\u001b[0m\u001b[1;32m     17\u001b[0m \u001b[0;34m\u001b[0m\u001b[0m\n\u001b[1;32m     18\u001b[0m \u001b[0mp1\u001b[0m \u001b[0;34m=\u001b[0m \u001b[0mMITPerson\u001b[0m\u001b[0;34m(\u001b[0m\u001b[0;34m'Eric'\u001b[0m\u001b[0;34m)\u001b[0m\u001b[0;34m\u001b[0m\u001b[0m\n",
      "\u001b[0;31mAttributeError\u001b[0m: 'Person' object has no attribute 'idNum'"
     ]
    }
   ],
   "source": [
    "p1<p4"
   ]
  },
  {
   "cell_type": "code",
   "execution_count": 42,
   "metadata": {
    "collapsed": false
   },
   "outputs": [
    {
     "name": "stdout",
     "output_type": "stream",
     "text": [
      "Accio\n",
      "Summoning Charm Accio\n",
      "No description\n",
      "Confundus Charm Confundo\n",
      "Causes the victim to become confused and befuddled.\n"
     ]
    }
   ],
   "source": [
    "class Spell(object):\n",
    "    def __init__(self, incantation, name):\n",
    "        self.name = name\n",
    "        self.incantation = incantation\n",
    "\n",
    "    def __str__(self):\n",
    "        return self.name + ' ' + self.incantation + '\\n' + self.getDescription()\n",
    "              \n",
    "    def getDescription(self):\n",
    "        return 'No description'\n",
    "    \n",
    "    def execute(self):\n",
    "        print self.incantation    \n",
    "\n",
    "\n",
    "class Accio(Spell):\n",
    "    def __init__(self):\n",
    "        Spell.__init__(self, 'Accio', 'Summoning Charm')\n",
    "\n",
    "class Confundo(Spell):\n",
    "    def __init__(self):\n",
    "        Spell.__init__(self, 'Confundo', 'Confundus Charm')\n",
    "\n",
    "    def getDescription(self):\n",
    "        return 'Causes the victim to become confused and befuddled.'\n",
    "\n",
    "def studySpell(spell):\n",
    "    print spell\n",
    "\n",
    "spell = Accio()\n",
    "spell.execute()\n",
    "studySpell(spell)\n",
    "studySpell(Confundo())"
   ]
  },
  {
   "cell_type": "code",
   "execution_count": 43,
   "metadata": {
    "collapsed": true
   },
   "outputs": [],
   "source": [
    "class UG(MITPerson):\n",
    "    def __init__(self, name, classYear):\n",
    "        MITPerson.__init__(self, name)\n",
    "        self.year = classYear\n",
    "\n",
    "    def getClass(self):\n",
    "        return self.year\n",
    "\n",
    "class Grad(MITPerson):\n",
    "    pass\n",
    "\n",
    "def isStudent(obj):\n",
    "    return isinstance(obj,UG) or isinstance(obj,Grad)\n",
    "\n",
    "#s1 = UG('Fred', 2016)\n",
    "#s2 = Grad('Angela')\n",
    "#isStudent(s1)\n",
    "#isStudent(s2)\n",
    "\n",
    "class TransferStudent(MITPerson):\n",
    "    pass\n",
    "\n",
    "# go back and define\n",
    "# class Student(MITPerson)\n",
    "# change inheritance for UG, Grad and TransferStudent\n",
    "# change def isStudent(obj):\n",
    "#            return isinstance(obj, Student)"
   ]
  },
  {
   "cell_type": "code",
   "execution_count": 44,
   "metadata": {
    "collapsed": true
   },
   "outputs": [],
   "source": [
    "s1 = UG(\"Thuy\", 2016)"
   ]
  },
  {
   "cell_type": "code",
   "execution_count": 45,
   "metadata": {
    "collapsed": true
   },
   "outputs": [],
   "source": [
    "s2 = Grad(\"Long\")"
   ]
  },
  {
   "cell_type": "code",
   "execution_count": 46,
   "metadata": {
    "collapsed": false
   },
   "outputs": [
    {
     "data": {
      "text/plain": [
       "True"
      ]
     },
     "execution_count": 46,
     "metadata": {},
     "output_type": "execute_result"
    }
   ],
   "source": [
    "isStudent(s1)"
   ]
  },
  {
   "cell_type": "code",
   "execution_count": 47,
   "metadata": {
    "collapsed": false
   },
   "outputs": [
    {
     "data": {
      "text/plain": [
       "True"
      ]
     },
     "execution_count": 47,
     "metadata": {},
     "output_type": "execute_result"
    }
   ],
   "source": [
    "isStudent(s2)"
   ]
  },
  {
   "cell_type": "code",
   "execution_count": 48,
   "metadata": {
    "collapsed": false
   },
   "outputs": [
    {
     "data": {
      "text/plain": [
       "False"
      ]
     },
     "execution_count": 48,
     "metadata": {},
     "output_type": "execute_result"
    }
   ],
   "source": [
    "isStudent(p4)"
   ]
  },
  {
   "cell_type": "code",
   "execution_count": 50,
   "metadata": {
    "collapsed": true
   },
   "outputs": [],
   "source": [
    "class A(object):\n",
    "    def __init__(self):\n",
    "        self.a = 1\n",
    "    def x(self):\n",
    "        print \"A.x\"\n",
    "    def y(self):\n",
    "        print \"A.y\"\n",
    "    def z(self):\n",
    "        print \"A.z\"\n",
    "\n",
    "class B(A):\n",
    "    def __init__(self):\n",
    "        A.__init__(self)\n",
    "        self.a = 2\n",
    "        self.b = 3\n",
    "    def y(self):\n",
    "        print \"B.y\"\n",
    "    def z(self):\n",
    "        print \"B.z\"\n",
    "\n",
    "class C(object):\n",
    "    def __init__(self):\n",
    "        self.a = 4\n",
    "        self.c = 5\n",
    "    def y(self):\n",
    "        print \"C.y\"\n",
    "    def z(self):\n",
    "        print \"C.z\"\n",
    "\n",
    "class D(C, B):\n",
    "    def __init__(self):\n",
    "        C.__init__(self)\n",
    "        B.__init__(self)\n",
    "        self.d = 6\n",
    "    def z(self):\n",
    "        print \"D.z\""
   ]
  },
  {
   "cell_type": "code",
   "execution_count": 51,
   "metadata": {
    "collapsed": true
   },
   "outputs": [],
   "source": [
    "obj = D()"
   ]
  },
  {
   "cell_type": "code",
   "execution_count": 54,
   "metadata": {
    "collapsed": false
   },
   "outputs": [
    {
     "name": "stdout",
     "output_type": "stream",
     "text": [
      "2\n"
     ]
    }
   ],
   "source": [
    "print obj.a"
   ]
  },
  {
   "cell_type": "code",
   "execution_count": 55,
   "metadata": {
    "collapsed": false
   },
   "outputs": [
    {
     "name": "stdout",
     "output_type": "stream",
     "text": [
      "A.x\n"
     ]
    }
   ],
   "source": [
    "obj.x()"
   ]
  },
  {
   "cell_type": "code",
   "execution_count": 56,
   "metadata": {
    "collapsed": false
   },
   "outputs": [
    {
     "name": "stdout",
     "output_type": "stream",
     "text": [
      "C.y\n"
     ]
    }
   ],
   "source": [
    "obj.y()"
   ]
  },
  {
   "cell_type": "code",
   "execution_count": 58,
   "metadata": {
    "collapsed": true
   },
   "outputs": [],
   "source": [
    "class Grades(object):\n",
    "    \"\"\"A mapping from students to a list of grades\"\"\"\n",
    "    def __init__(self):\n",
    "        \"\"\"Create empty grade book\"\"\"\n",
    "        self.students = []  # list of Student objects\n",
    "        self.grades = {}    # maps idNum -> list of grades\n",
    "        self.isSorted = True # true if self.students is sorted\n",
    "\n",
    "    def addStudent(self, student):\n",
    "        \"\"\"Assumes: student is of type Student\n",
    "           Add student to the grade book\"\"\"\n",
    "        if student in self.students:\n",
    "            raise ValueError('Duplicate student')\n",
    "        self.students.append(student)\n",
    "        self.grades[student.getIdNum()] = []\n",
    "        self.isSorted = False\n",
    "\n",
    "    def addGrade(self, student, grade):\n",
    "        \"\"\"Assumes: grade is a float\n",
    "           Add grade to the list of grades for student\"\"\"\n",
    "        try:\n",
    "            self.grades[student.getIdNum()].append(grade)\n",
    "        except KeyError:\n",
    "            raise ValueError('Student not in grade book')\n",
    "\n",
    "    def getGrades(self, student):\n",
    "        \"\"\"Return a list of grades for student\"\"\"\n",
    "        try:    # return copy of student's grades\n",
    "            return self.grades[student.getIdNum()][:]\n",
    "        except KeyError:\n",
    "            raise ValueError('Student not in grade book')\n",
    "\n",
    "    def allStudents(self):\n",
    "        \"\"\"Return a list of the students in the grade book\"\"\"\n",
    "        if not self.isSorted:\n",
    "            self.students.sort()\n",
    "            self.isSorted = True\n",
    "        return self.students[:] #return copy of list of students\n"
   ]
  },
  {
   "cell_type": "code",
   "execution_count": 61,
   "metadata": {
    "collapsed": false
   },
   "outputs": [
    {
     "name": "stdout",
     "output_type": "stream",
     "text": [
      "Jane Doe's mean grade is 75.0\n",
      "John Doe's mean grade is 75.0\n",
      "David Henry has no grades\n",
      "John Henry's mean grade is 87.5\n",
      "George Steinbrenner's mean grade is 50.0\n"
     ]
    }
   ],
   "source": [
    "def gradeReport(course):\n",
    "    \"\"\"Assumes: course if of type grades\"\"\"\n",
    "    report = []\n",
    "    for s in course.allStudents():\n",
    "        tot = 0.0\n",
    "        numGrades = 0\n",
    "        for g in course.getGrades(s):\n",
    "            tot += g\n",
    "            numGrades += 1\n",
    "        try:\n",
    "            average = tot/numGrades\n",
    "            report.append(str(s) + '\\'s mean grade is '\n",
    "                          + str(average))\n",
    "        except ZeroDivisionError:\n",
    "            report.append(str(s) + ' has no grades')\n",
    "    return '\\n'.join(report)\n",
    "\n",
    "ug1 = UG('Jane Doe', 2014)\n",
    "ug2 = UG('John Doe', 2015)\n",
    "ug3 = UG('David Henry', 2003)\n",
    "g1 = Grad('John Henry')\n",
    "g2 = Grad('George Steinbrenner')\n",
    "\n",
    "six00 = Grades()\n",
    "six00.addStudent(g1)\n",
    "six00.addStudent(ug2)\n",
    "six00.addStudent(ug1)\n",
    "six00.addStudent(g2)\n",
    "\n",
    "for s in six00.allStudents():\n",
    "    six00.addGrade(s, 75)\n",
    "six00.addGrade(g1, 100)\n",
    "six00.addGrade(g2, 25)\n",
    "\n",
    "six00.addStudent(ug3)\n",
    "\n",
    "print gradeReport(six00)"
   ]
  },
  {
   "cell_type": "code",
   "execution_count": 62,
   "metadata": {
    "collapsed": false
   },
   "outputs": [
    {
     "name": "stdout",
     "output_type": "stream",
     "text": [
      "Jane Doe\n",
      "John Doe\n",
      "David Henry\n",
      "John Henry\n",
      "George Steinbrenner\n"
     ]
    }
   ],
   "source": [
    "for s in six00.allStudents():\n",
    "    print s"
   ]
  },
  {
   "cell_type": "code",
   "execution_count": 64,
   "metadata": {
    "collapsed": false
   },
   "outputs": [
    {
     "name": "stdout",
     "output_type": "stream",
     "text": [
      "Jane Doe\n",
      "John Doe\n",
      "David Henry\n",
      "John Henry\n",
      "George Steinbrenner\n"
     ]
    }
   ],
   "source": [
    "for s in six00.students:\n",
    "    print s"
   ]
  },
  {
   "cell_type": "code",
   "execution_count": null,
   "metadata": {
    "collapsed": true
   },
   "outputs": [],
   "source": [
    "import random \n",
    "\n",
    "class Hand(object):\n",
    "    def __init__(self, n):\n",
    "        '''\n",
    "        Initialize a Hand.\n",
    "\n",
    "        n: integer, the size of the hand.\n",
    "        '''\n",
    "        assert type(n) == int\n",
    "        self.HAND_SIZE = n\n",
    "        self.VOWELS = 'aeiou'\n",
    "        self.CONSONANTS = 'bcdfghjklmnpqrstvwxyz'\n",
    "\n",
    "        # Deal a new hand\n",
    "        self.dealNewHand()\n",
    "\n",
    "    def dealNewHand(self):\n",
    "        '''\n",
    "        Deals a new hand, and sets the hand attribute to the new hand.\n",
    "        '''\n",
    "        # Set self.hand to a new, empty dictionary\n",
    "        self.hand = {}\n",
    "\n",
    "        # Build the hand\n",
    "        numVowels = self.HAND_SIZE / 3\n",
    "    \n",
    "        for i in range(numVowels):\n",
    "            x = self.VOWELS[random.randrange(0,len(self.VOWELS))]\n",
    "            self.hand[x] = self.hand.get(x, 0) + 1\n",
    "        \n",
    "        for i in range(numVowels, self.HAND_SIZE):    \n",
    "            x = self.CONSONANTS[random.randrange(0,len(self.CONSONANTS))]\n",
    "            self.hand[x] = self.hand.get(x, 0) + 1\n",
    "            \n",
    "    def setDummyHand(self, handString):\n",
    "        '''\n",
    "        Allows you to set a dummy hand. Useful for testing your implementation.\n",
    "\n",
    "        handString: A string of letters you wish to be in the hand. Length of this\n",
    "        string must be equal to self.HAND_SIZE.\n",
    "\n",
    "        This method converts sets the hand attribute to a dictionary\n",
    "        containing the letters of handString.\n",
    "        '''\n",
    "        assert len(handString) == self.HAND_SIZE, \"Length of handString ({0}) must equal length of HAND_SIZE ({1})\".format(len(handString), self.HAND_SIZE)\n",
    "        self.hand = {}\n",
    "        for char in handString:\n",
    "            self.hand[char] = self.hand.get(char, 0) + 1\n",
    "\n",
    "\n",
    "    def calculateLen(self):\n",
    "        '''\n",
    "        Calculate the length of the hand.\n",
    "        '''\n",
    "        ans = 0\n",
    "        for k in self.hand:\n",
    "            ans += self.hand[k]\n",
    "        return ans\n",
    "    \n",
    "    def __str__(self):\n",
    "        '''\n",
    "        Display a string representation of the hand.\n",
    "        '''\n",
    "        output = ''\n",
    "        hand_keys = self.hand.keys()\n",
    "        hand_keys.sort()\n",
    "        for letter in hand_keys:\n",
    "            for j in range(self.hand[letter]):\n",
    "                output += letter\n",
    "        return output\n",
    "\n",
    "    def update(self, word):\n",
    "        \"\"\"\n",
    "        Does not assume that self.hand has all the letters in word.\n",
    "\n",
    "        Updates the hand: if self.hand does have all the letters to make\n",
    "        the word, modifies self.hand by using up the letters in the given word.\n",
    "\n",
    "        Returns True if the word was able to be made with the letter in\n",
    "        the hand; False otherwise.\n",
    "        \n",
    "        word: string\n",
    "        returns: Boolean (if the word was or was not made)\n",
    "        \"\"\"\n",
    "        # Your code here\n",
    "        update = self.hand.copy()\n",
    "        try:\n",
    "            for letter in word:\n",
    "                update[letter] -= 1\n",
    "                if update.get(letter, 0) < 0:\n",
    "                    return False\n",
    "        except KeyError:\n",
    "            return False\n",
    "        self.hand = update\n",
    "        return True\n",
    "\n",
    "    \n",
    "myHand = Hand(7)\n",
    "print myHand\n",
    "print myHand.calculateLen()\n",
    "\n",
    "myHand.setDummyHand('aazzmsp')\n",
    "print myHand\n",
    "print myHand.calculateLen()\n",
    "\n",
    "myHand.update('za')\n",
    "print myHand"
   ]
  }
 ],
 "metadata": {
  "kernelspec": {
   "display_name": "Python 2",
   "language": "python",
   "name": "python2"
  },
  "language_info": {
   "codemirror_mode": {
    "name": "ipython",
    "version": 2
   },
   "file_extension": ".py",
   "mimetype": "text/x-python",
   "name": "python",
   "nbconvert_exporter": "python",
   "pygments_lexer": "ipython2",
   "version": "2.7.11"
  }
 },
 "nbformat": 4,
 "nbformat_minor": 0
}
