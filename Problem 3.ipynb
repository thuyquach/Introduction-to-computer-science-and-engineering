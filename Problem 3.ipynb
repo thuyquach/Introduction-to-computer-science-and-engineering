{
 "cells": [
  {
   "cell_type": "code",
   "execution_count": 109,
   "metadata": {
    "collapsed": false
   },
   "outputs": [
    {
     "data": {
      "text/plain": [
       "9.869334208298742"
      ]
     },
     "execution_count": 109,
     "metadata": {},
     "output_type": "execute_result"
    }
   ],
   "source": [
    "def f(x):\n",
    "    import math\n",
    "    return 10*math.e**(math.log(0.5)/5.27 * x)\n",
    "f()"
   ]
  },
  {
   "cell_type": "code",
   "execution_count": 182,
   "metadata": {
    "collapsed": false
   },
   "outputs": [],
   "source": [
    "def radiationExposure(start, stop, step):\n",
    "    '''\n",
    "    Computes and returns the amount of radiation exposed\n",
    "    to between the start and stop times. Calls the \n",
    "    function f (defined for you in the grading script)\n",
    "    to obtain the value of the function at any point.\n",
    " \n",
    "    start: integer, the time at which exposure begins\n",
    "    stop: integer, the time at which exposure ends\n",
    "    step: float, the width of each rectangle. You can assume that\n",
    "      the step size will always partition the space evenly.\n",
    "\n",
    "    returns: float, the amount of radiation exposed to \n",
    "      between start and stop times.\n",
    "    '''\n",
    "    #if stop - start < step:\n",
    "        \n",
    "    if (start+step) == stop:\n",
    "        return step*f(stop-1)\n",
    "    \n",
    "    elif (start+step)- stop> 0.1:\n",
    "        return ((stop - start)/step)*step*f(stop-2)\n",
    "    \n",
    "    else:\n",
    "        return step*f(start) + radiationExposure(start+step, stop , step)\n",
    "   "
   ]
  },
  {
   "cell_type": "code",
   "execution_count": 183,
   "metadata": {
    "collapsed": false
   },
   "outputs": [
    {
     "data": {
      "text/plain": [
       "62.0455982538391"
      ]
     },
     "execution_count": 183,
     "metadata": {},
     "output_type": "execute_result"
    }
   ],
   "source": [
    "radiationExposure(0, 11, 1)"
   ]
  },
  {
   "cell_type": "code",
   "execution_count": 184,
   "metadata": {
    "collapsed": false
   },
   "outputs": [
    {
     "data": {
      "text/plain": [
       "39.1031878432624"
      ]
     },
     "execution_count": 184,
     "metadata": {},
     "output_type": "execute_result"
    }
   ],
   "source": [
    "radiationExposure(0, 5, 1)"
   ]
  },
  {
   "cell_type": "code",
   "execution_count": 185,
   "metadata": {
    "collapsed": false
   },
   "outputs": [
    {
     "data": {
      "text/plain": [
       "0.434610099736041"
      ]
     },
     "execution_count": 185,
     "metadata": {},
     "output_type": "execute_result"
    }
   ],
   "source": [
    "radiationExposure(40, 100, 1.5)"
   ]
  },
  {
   "cell_type": "code",
   "execution_count": 186,
   "metadata": {
    "collapsed": false
   },
   "outputs": [
    {
     "data": {
      "text/plain": [
       "21.568544620558296"
      ]
     },
     "execution_count": 186,
     "metadata": {},
     "output_type": "execute_result"
    }
   ],
   "source": [
    "radiationExposure(5, 11, 0.1)"
   ]
  },
  {
   "cell_type": "code",
   "execution_count": 116,
   "metadata": {
    "collapsed": false
   },
   "outputs": [
    {
     "data": {
      "text/plain": [
       "True"
      ]
     },
     "execution_count": 116,
     "metadata": {},
     "output_type": "execute_result"
    }
   ],
   "source": [
    "2.9 + 0.1 ==3"
   ]
  },
  {
   "cell_type": "code",
   "execution_count": 212,
   "metadata": {
    "collapsed": false
   },
   "outputs": [],
   "source": [
    "def radiationExposure(start, stop, step):\n",
    "    '''\n",
    "    Computes and returns the amount of radiation exposed\n",
    "    to between the start and stop times. Calls the \n",
    "    function f (defined for you in the grading script)\n",
    "    to obtain the value of the function at any point.\n",
    " \n",
    "    start: integer, the time at which exposure begins\n",
    "    stop: integer, the time at which exposure ends\n",
    "    step: float, the width of each rectangle. You can assume that\n",
    "      the step size will always partition the space evenly.\n",
    "\n",
    "    returns: float, the amount of radiation exposed to \n",
    "      between start and stop times.\n",
    "    '''\n",
    "    \n",
    "    if start + step == stop:\n",
    "        return step*f(stop-step)\n",
    "    \n",
    "    elif (start+step)- stop >= 0.01:\n",
    "        return step*f(stop-step)\n",
    "    \n",
    "    else:\n",
    "        return step*f(start) + radiationExposure(start+step, stop , step)\n",
    "   "
   ]
  },
  {
   "cell_type": "code",
   "execution_count": 213,
   "metadata": {
    "collapsed": false
   },
   "outputs": [
    {
     "data": {
      "text/plain": [
       "21.877790996751344"
      ]
     },
     "execution_count": 213,
     "metadata": {},
     "output_type": "execute_result"
    }
   ],
   "source": [
    "radiationExposure(5, 11, 0.1)"
   ]
  },
  {
   "cell_type": "code",
   "execution_count": 214,
   "metadata": {
    "collapsed": false
   },
   "outputs": [
    {
     "data": {
      "text/plain": [
       "62.0455982538391"
      ]
     },
     "execution_count": 214,
     "metadata": {},
     "output_type": "execute_result"
    }
   ],
   "source": [
    "radiationExposure(0, 11, 1)"
   ]
  },
  {
   "cell_type": "code",
   "execution_count": 241,
   "metadata": {
    "collapsed": false
   },
   "outputs": [],
   "source": [
    "def radiationExposure(start, stop, step):\n",
    "    '''\n",
    "    Computes and returns the amount of radiation exposed\n",
    "    to between the start and stop times. Calls the \n",
    "    function f (defined for you in the grading script)\n",
    "    to obtain the value of the function at any point.\n",
    " \n",
    "    start: integer, the time at which exposure begins\n",
    "    stop: integer, the time at which exposure ends\n",
    "    step: float, the width of each rectangle. You can assume that\n",
    "      the step size will always partition the space evenly.\n",
    "\n",
    "    returns: float, the amount of radiation exposed to \n",
    "      between start and stop times.\n",
    "    '''\n",
    "    area = 0\n",
    "    iteNo = int((stop-start)/step)\n",
    "    for i in range(iteNo):\n",
    "        area = area + step*f(start)\n",
    "        start += step\n",
    "    return area\n",
    "        \n",
    "    \n",
    "    \n",
    "    "
   ]
  },
  {
   "cell_type": "code",
   "execution_count": 242,
   "metadata": {
    "collapsed": false
   },
   "outputs": [
    {
     "data": {
      "text/plain": [
       "62.045598253839096"
      ]
     },
     "execution_count": 242,
     "metadata": {},
     "output_type": "execute_result"
    }
   ],
   "source": [
    "radiationExposure(0, 11, 1)"
   ]
  },
  {
   "cell_type": "code",
   "execution_count": 243,
   "metadata": {
    "collapsed": false
   },
   "outputs": [
    {
     "data": {
      "text/plain": [
       "21.639352546847956"
      ]
     },
     "execution_count": 243,
     "metadata": {},
     "output_type": "execute_result"
    }
   ],
   "source": [
    "radiationExposure(5, 11, 0.1)\n"
   ]
  },
  {
   "cell_type": "code",
   "execution_count": 225,
   "metadata": {
    "collapsed": false
   },
   "outputs": [
    {
     "data": {
      "text/plain": [
       "140.0"
      ]
     },
     "execution_count": 225,
     "metadata": {},
     "output_type": "execute_result"
    }
   ],
   "source": [
    "14/0.1"
   ]
  },
  {
   "cell_type": "code",
   "execution_count": 226,
   "metadata": {
    "collapsed": false
   },
   "outputs": [
    {
     "data": {
      "text/plain": [
       "140"
      ]
     },
     "execution_count": 226,
     "metadata": {},
     "output_type": "execute_result"
    }
   ],
   "source": [
    "int(140.0)"
   ]
  },
  {
   "cell_type": "code",
   "execution_count": null,
   "metadata": {
    "collapsed": true
   },
   "outputs": [],
   "source": []
  }
 ],
 "metadata": {
  "kernelspec": {
   "display_name": "Python 2",
   "language": "python",
   "name": "python2"
  },
  "language_info": {
   "codemirror_mode": {
    "name": "ipython",
    "version": 2
   },
   "file_extension": ".py",
   "mimetype": "text/x-python",
   "name": "python",
   "nbconvert_exporter": "python",
   "pygments_lexer": "ipython2",
   "version": "2.7.11"
  }
 },
 "nbformat": 4,
 "nbformat_minor": 0
}
