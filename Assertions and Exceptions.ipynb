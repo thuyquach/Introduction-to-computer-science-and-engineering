{
 "cells": [
  {
   "cell_type": "code",
   "execution_count": 7,
   "metadata": {
    "collapsed": true
   },
   "outputs": [],
   "source": [
    "def divide(x, y):\n",
    "    try:\n",
    "        result = x / y\n",
    "    except ZeroDivisionError, e:\n",
    "        print \"division by zero! \" + str(e)\n",
    "    else:\n",
    "        print \"result is\", result\n",
    "    finally:\n",
    "        print \"executing finally clause\"\n",
    "\n",
    "def divideNew(x, y):\n",
    "    try:\n",
    "        result = x / y\n",
    "    except ZeroDivisionError, e:\n",
    "        print \"division by zero! \" + str(e)\n",
    "    except TypeError:\n",
    "        divideNew(int(x), int(y))\n",
    "    else:\n",
    "        print \"result is\", result\n",
    "    finally:\n",
    "        print \"executing finally clause\"\n",
    "        "
   ]
  },
  {
   "cell_type": "code",
   "execution_count": 8,
   "metadata": {
    "collapsed": false
   },
   "outputs": [
    {
     "name": "stdout",
     "output_type": "stream",
     "text": [
      "result is 0\n",
      "executing finally clause\n"
     ]
    }
   ],
   "source": [
    "divide(3,4)"
   ]
  },
  {
   "cell_type": "code",
   "execution_count": 9,
   "metadata": {
    "collapsed": false
   },
   "outputs": [
    {
     "name": "stdout",
     "output_type": "stream",
     "text": [
      "division by zero! integer division or modulo by zero\n",
      "executing finally clause\n"
     ]
    }
   ],
   "source": [
    "divide(3,0)"
   ]
  },
  {
   "cell_type": "code",
   "execution_count": 13,
   "metadata": {
    "collapsed": false
   },
   "outputs": [
    {
     "name": "stdout",
     "output_type": "stream",
     "text": [
      "executing finally clause\n"
     ]
    },
    {
     "ename": "TypeError",
     "evalue": "unsupported operand type(s) for /: 'str' and 'str'",
     "output_type": "error",
     "traceback": [
      "\u001b[0;31m---------------------------------------------------------------------------\u001b[0m",
      "\u001b[0;31mTypeError\u001b[0m                                 Traceback (most recent call last)",
      "\u001b[0;32m<ipython-input-13-51d3e3644cd4>\u001b[0m in \u001b[0;36m<module>\u001b[0;34m()\u001b[0m\n\u001b[0;32m----> 1\u001b[0;31m \u001b[0mdivide\u001b[0m\u001b[0;34m(\u001b[0m\u001b[0;34m'3'\u001b[0m\u001b[0;34m,\u001b[0m \u001b[0;34m'1'\u001b[0m\u001b[0;34m)\u001b[0m\u001b[0;34m\u001b[0m\u001b[0m\n\u001b[0m",
      "\u001b[0;32m<ipython-input-7-89b8dd9b7503>\u001b[0m in \u001b[0;36mdivide\u001b[0;34m(x, y)\u001b[0m\n\u001b[1;32m      1\u001b[0m \u001b[0;32mdef\u001b[0m \u001b[0mdivide\u001b[0m\u001b[0;34m(\u001b[0m\u001b[0mx\u001b[0m\u001b[0;34m,\u001b[0m \u001b[0my\u001b[0m\u001b[0;34m)\u001b[0m\u001b[0;34m:\u001b[0m\u001b[0;34m\u001b[0m\u001b[0m\n\u001b[1;32m      2\u001b[0m     \u001b[0;32mtry\u001b[0m\u001b[0;34m:\u001b[0m\u001b[0;34m\u001b[0m\u001b[0m\n\u001b[0;32m----> 3\u001b[0;31m         \u001b[0mresult\u001b[0m \u001b[0;34m=\u001b[0m \u001b[0mx\u001b[0m \u001b[0;34m/\u001b[0m \u001b[0my\u001b[0m\u001b[0;34m\u001b[0m\u001b[0m\n\u001b[0m\u001b[1;32m      4\u001b[0m     \u001b[0;32mexcept\u001b[0m \u001b[0mZeroDivisionError\u001b[0m\u001b[0;34m,\u001b[0m \u001b[0me\u001b[0m\u001b[0;34m:\u001b[0m\u001b[0;34m\u001b[0m\u001b[0m\n\u001b[1;32m      5\u001b[0m         \u001b[0;32mprint\u001b[0m \u001b[0;34m\"division by zero! \"\u001b[0m \u001b[0;34m+\u001b[0m \u001b[0mstr\u001b[0m\u001b[0;34m(\u001b[0m\u001b[0me\u001b[0m\u001b[0;34m)\u001b[0m\u001b[0;34m\u001b[0m\u001b[0m\n",
      "\u001b[0;31mTypeError\u001b[0m: unsupported operand type(s) for /: 'str' and 'str'"
     ]
    }
   ],
   "source": [
    "divide('3', '1')"
   ]
  },
  {
   "cell_type": "code",
   "execution_count": 12,
   "metadata": {
    "collapsed": false
   },
   "outputs": [
    {
     "name": "stdout",
     "output_type": "stream",
     "text": [
      "result is 3\n",
      "executing finally clause\n",
      "executing finally clause\n"
     ]
    }
   ],
   "source": [
    "divideNew('3', '1')"
   ]
  },
  {
   "cell_type": "code",
   "execution_count": 18,
   "metadata": {
    "collapsed": true
   },
   "outputs": [],
   "source": [
    "def FancyDivide(numbers,index):\n",
    "    try:\n",
    "        denom = numbers[index]\n",
    "        for i in range(len(numbers)):\n",
    "            numbers[i] /= denom\n",
    "    except IndexError, e:\n",
    "        print \"-1\"\n",
    "    else:\n",
    "        print \"1\"\n",
    "    finally:\n",
    "        print \"0\""
   ]
  },
  {
   "cell_type": "code",
   "execution_count": 15,
   "metadata": {
    "collapsed": false
   },
   "outputs": [
    {
     "name": "stdout",
     "output_type": "stream",
     "text": [
      "1\n",
      "0\n"
     ]
    }
   ],
   "source": [
    "FancyDivide([0, 2, 4], 1)"
   ]
  },
  {
   "cell_type": "code",
   "execution_count": 16,
   "metadata": {
    "collapsed": true
   },
   "outputs": [],
   "source": [
    "def FancyDivide(numbers, index):\n",
    "    try:\n",
    "        denom = numbers[index]\n",
    "        for i in range(len(numbers)):\n",
    "            numbers[i] /= denom\n",
    "    except IndexError, e:\n",
    "        FancyDivide(numbers, len(numbers) - 1)\n",
    "    except ZeroDivisionError, e:\n",
    "        print \"-2\"\n",
    "    else:\n",
    "        print \"1\"\n",
    "    finally:\n",
    "        print \"0\"\n",
    "          "
   ]
  },
  {
   "cell_type": "code",
   "execution_count": 17,
   "metadata": {
    "collapsed": false
   },
   "outputs": [
    {
     "name": "stdout",
     "output_type": "stream",
     "text": [
      "1\n",
      "0\n",
      "0\n"
     ]
    }
   ],
   "source": [
    "FancyDivide([0, 2, 4], 4)"
   ]
  },
  {
   "cell_type": "code",
   "execution_count": 19,
   "metadata": {
    "collapsed": false
   },
   "outputs": [
    {
     "name": "stdout",
     "output_type": "stream",
     "text": [
      "0\n"
     ]
    },
    {
     "ename": "ZeroDivisionError",
     "evalue": "integer division or modulo by zero",
     "output_type": "error",
     "traceback": [
      "\u001b[0;31m---------------------------------------------------------------------------\u001b[0m",
      "\u001b[0;31mZeroDivisionError\u001b[0m                         Traceback (most recent call last)",
      "\u001b[0;32m<ipython-input-19-07c2dd538cb0>\u001b[0m in \u001b[0;36m<module>\u001b[0;34m()\u001b[0m\n\u001b[0;32m----> 1\u001b[0;31m \u001b[0mFancyDivide\u001b[0m\u001b[0;34m(\u001b[0m\u001b[0;34m[\u001b[0m\u001b[0;36m0\u001b[0m\u001b[0;34m,\u001b[0m \u001b[0;36m2\u001b[0m\u001b[0;34m,\u001b[0m \u001b[0;36m4\u001b[0m\u001b[0;34m]\u001b[0m\u001b[0;34m,\u001b[0m \u001b[0;36m0\u001b[0m\u001b[0;34m)\u001b[0m\u001b[0;34m\u001b[0m\u001b[0m\n\u001b[0m",
      "\u001b[0;32m<ipython-input-18-6226acb1d397>\u001b[0m in \u001b[0;36mFancyDivide\u001b[0;34m(numbers, index)\u001b[0m\n\u001b[1;32m      3\u001b[0m         \u001b[0mdenom\u001b[0m \u001b[0;34m=\u001b[0m \u001b[0mnumbers\u001b[0m\u001b[0;34m[\u001b[0m\u001b[0mindex\u001b[0m\u001b[0;34m]\u001b[0m\u001b[0;34m\u001b[0m\u001b[0m\n\u001b[1;32m      4\u001b[0m         \u001b[0;32mfor\u001b[0m \u001b[0mi\u001b[0m \u001b[0;32min\u001b[0m \u001b[0mrange\u001b[0m\u001b[0;34m(\u001b[0m\u001b[0mlen\u001b[0m\u001b[0;34m(\u001b[0m\u001b[0mnumbers\u001b[0m\u001b[0;34m)\u001b[0m\u001b[0;34m)\u001b[0m\u001b[0;34m:\u001b[0m\u001b[0;34m\u001b[0m\u001b[0m\n\u001b[0;32m----> 5\u001b[0;31m             \u001b[0mnumbers\u001b[0m\u001b[0;34m[\u001b[0m\u001b[0mi\u001b[0m\u001b[0;34m]\u001b[0m \u001b[0;34m/=\u001b[0m \u001b[0mdenom\u001b[0m\u001b[0;34m\u001b[0m\u001b[0m\n\u001b[0m\u001b[1;32m      6\u001b[0m     \u001b[0;32mexcept\u001b[0m \u001b[0mIndexError\u001b[0m\u001b[0;34m,\u001b[0m \u001b[0me\u001b[0m\u001b[0;34m:\u001b[0m\u001b[0;34m\u001b[0m\u001b[0m\n\u001b[1;32m      7\u001b[0m         \u001b[0;32mprint\u001b[0m \u001b[0;34m\"-1\"\u001b[0m\u001b[0;34m\u001b[0m\u001b[0m\n",
      "\u001b[0;31mZeroDivisionError\u001b[0m: integer division or modulo by zero"
     ]
    }
   ],
   "source": [
    "FancyDivide([0, 2, 4], 0)"
   ]
  },
  {
   "cell_type": "code",
   "execution_count": 20,
   "metadata": {
    "collapsed": true
   },
   "outputs": [],
   "source": [
    "def getSubjectStats(subject, weights):\n",
    "    return [[elt[0], elt[1], avg(elt[1], weights)]\n",
    "            for elt in subject]\n",
    "\n",
    "def dotProduct(a,b):\n",
    "    result = 0.0\n",
    "    for i in range(len(a)):\n",
    "        result += a[i]*b[i]\n",
    "    return result\n",
    "\n",
    "def avg(grades, weights):\n",
    "    return dotProduct(grades, weights)/len(grades)\n",
    "\n",
    "\n",
    "def avg(grades, weights):\n",
    "    try:\n",
    "        return dotProduct(grades, weights)/len(grades)\n",
    "    except ZeroDivisionError:\n",
    "        print 'no grades data'\n",
    "\n",
    "def avg(grades, weights):\n",
    "    try:\n",
    "        return dotProduct(grades, weights)/len(grades)\n",
    "    except ZeroDivisionError:\n",
    "        print 'no grades data'\n",
    "        return 0.0\n",
    "\n",
    "def convertLetterGrade(grade):\n",
    "    if type(grade) == int:\n",
    "        return grade\n",
    "    elif grade == 'A':\n",
    "        return 90.0\n",
    "    elif grade == 'B':\n",
    "        return 80.0\n",
    "    elif grade == 'C':\n",
    "        return 70.0\n",
    "    elif grade == 'D':\n",
    "        return 60.0\n",
    "    else:\n",
    "        return 50.0\n",
    "\n",
    "def avg(grades, weights):\n",
    "    try:\n",
    "        return dotProduct(grades, weights)/len(grades)\n",
    "    except ZeroDivisionError:\n",
    "        print 'no grades data'\n",
    "        return 0.0\n",
    "    except TypeError:\n",
    "        newgrades = [convertLetterGrade(elt) for elt in grades]\n",
    "        return dotProduct(newgrades, weights)/len(newgrades)\n",
    "\n",
    "def avg(grades, weights):\n",
    "    assert not len(grades) == 0, 'no grades data'\n",
    "    newgrades = [convertLetterGrade(elt) for elt in grades]\n",
    "    return dotProduct(newgrades, weights)/len(newgrades)\n",
    "\n",
    "def avg(grades, weights):\n",
    "    assert not len(grades) == 0, 'no grades data'\n",
    "    assert len(grades) == len(weights), 'wrong number grades'\n",
    "    newgrades = [convertLetterGrade(elt) for elt in grades]\n",
    "    result = dotProduct(newgrades, weights)/len(newgrades)\n",
    "    assert 0.0 <= result <= 100.0, 'grade exceeds limits'\n",
    "    return result\n",
    "\n",
    "\n",
    "test = [[['fred', 'flintstone'], [10.0, 5.0, 85.0]],\n",
    "        [['barney', 'rubble'], [10.0, 8.0, 74.0]],\n",
    "        [['wilma', 'flintstone'], [8.0, 10.0, 96.0]],\n",
    "        [['dino'], []]]\n",
    "\n",
    "weights = [.3, .2, .5]\n",
    "\n",
    "weights1 = [.15, .1, .25, .25]\n",
    "\n",
    "test1 = [[['fred', 'flintstone'], [10.0, 5.0, 85.0, 'D']],\n",
    "         [['barney', 'rubble'], [10.0, 8.0, 74.0, 'B']],\n",
    "         [['wilma', 'flintstone'], [8.0, 10.0, 96.0, 'A']],\n",
    "         [['dino'], []]]\n",
    "\n",
    "test2 = [[['fred', 'flintstone'], [10.0, 5.0, 8500, 'D']],\n",
    "         [['barney', 'rubble'], [10.0, 8.0, 74.0, 'B']],\n",
    "         [['wilma', 'flintstone'], [8.0, 10.0, 96.0, 'A']]]\n",
    "\n"
   ]
  },
  {
   "cell_type": "code",
   "execution_count": 28,
   "metadata": {
    "collapsed": false
   },
   "outputs": [],
   "source": [
    "def SimpleDivide(item, denom):\n",
    "    try:\n",
    "        return item / denom \n",
    "    except ZeroDivisionError:\n",
    "        return 0\n",
    "        \n",
    "      "
   ]
  },
  {
   "cell_type": "code",
   "execution_count": 29,
   "metadata": {
    "collapsed": false
   },
   "outputs": [
    {
     "data": {
      "text/plain": [
       "0"
      ]
     },
     "execution_count": 29,
     "metadata": {},
     "output_type": "execute_result"
    }
   ],
   "source": [
    "SimpleDivide(1,0)"
   ]
  },
  {
   "cell_type": "code",
   "execution_count": null,
   "metadata": {
    "collapsed": true
   },
   "outputs": [],
   "source": []
  }
 ],
 "metadata": {
  "kernelspec": {
   "display_name": "Python 2",
   "language": "python",
   "name": "python2"
  },
  "language_info": {
   "codemirror_mode": {
    "name": "ipython",
    "version": 2
   },
   "file_extension": ".py",
   "mimetype": "text/x-python",
   "name": "python",
   "nbconvert_exporter": "python",
   "pygments_lexer": "ipython2",
   "version": "2.7.11"
  }
 },
 "nbformat": 4,
 "nbformat_minor": 0
}
